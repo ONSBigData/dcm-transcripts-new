{
 "cells": [
  {
   "cell_type": "code",
   "execution_count": 1,
   "metadata": {},
   "outputs": [],
   "source": [
    "import sys\n",
    "sys.path.insert(0, '/home/ons21553/wspace/interview-transcripts/src')\n",
    "from common import *\n",
    "from editdist import levenshtein\n",
    "\n",
    "%load_ext autoreload\n",
    "%autoreload 2"
   ]
  },
  {
   "cell_type": "code",
   "execution_count": 3,
   "metadata": {},
   "outputs": [
    {
     "name": "stdout",
     "output_type": "stream",
     "text": [
      "/home/ons21553/.local/share/virtualenvs/src-ppTQaxQI/bin/python\n"
     ]
    }
   ],
   "source": [
    "!which python"
   ]
  },
  {
   "cell_type": "code",
   "execution_count": 2,
   "metadata": {},
   "outputs": [],
   "source": [
    "import speech_recognition as sr\n",
    "import recordings.harvard as hv\n",
    "import pandas as pd"
   ]
  },
  {
   "cell_type": "code",
   "execution_count": 57,
   "metadata": {},
   "outputs": [],
   "source": [
    "def find_transcript(audio_fpath):\n",
    "    recognizer = sr.Recognizer()\n",
    "    \n",
    "    print(f'\\nfinding the best transcript for {audio_fpath}')\n",
    "    with sr.AudioFile(audio_fpath) as source:\n",
    "        audio = recognizer.record(source)\n",
    "\n",
    "    recog_transcript = recognizer.recognize_google(audio)\n",
    "\n",
    "    all_transcripts = [' '.join(l) for l in hv_data['transcripts']]\n",
    "    scores = [{\n",
    "        'ix': i, \n",
    "        'text': t, \n",
    "        'distance': levenshtein(recog_transcript, t)\n",
    "    } for i, t in enumerate(all_transcripts)]\n",
    "    \n",
    "    scores.sort(key=lambda score: score['distance'])\n",
    "    \n",
    "    result = {\n",
    "        'audio_fpath': audio_fpath,\n",
    "        **scores[0],\n",
    "        'next_distance': scores[1]['distance']\n",
    "    }\n",
    "    \n",
    "    print(f'found {result}')\n",
    "    \n",
    "    return result\n",
    "\n",
    "# find_transcript(hv_data['audio']['uk'][0])"
   ]
  },
  {
   "cell_type": "code",
   "execution_count": 59,
   "metadata": {
    "scrolled": true
   },
   "outputs": [
    {
     "name": "stdout",
     "output_type": "stream",
     "text": [
      "\n",
      "finding the best transcript for /home/ons21553/wspace/interview-transcripts/src/../data/recordings/harvard/OSR_uk_000_0049_8k.wav\n",
      "found {'audio_fpath': '/home/ons21553/wspace/interview-transcripts/src/../data/recordings/harvard/OSR_uk_000_0049_8k.wav', 'ix': 57, 'text': 'It is a band of steel three inches wide. The pipe ran almost the length of the ditch. It was hidden from sight by a mass of leaves and shrubs. The weight. of the package was seen on the high scale. Wake and rise, and step into the green outdoors. The green light in the brown box flickered. The brass tube circled the high wall. The lobes of her ears were pierced to hold rings. Hold the hammer near the end to drive the nail. Next Sunday is the twelfth of the month.', 'distance': 91, 'next_distance': 304}\n",
      "\n",
      "finding the best transcript for /home/ons21553/wspace/interview-transcripts/src/../data/recordings/harvard/OSR_uk_000_0051_8k.wav\n",
      "found {'audio_fpath': '/home/ons21553/wspace/interview-transcripts/src/../data/recordings/harvard/OSR_uk_000_0051_8k.wav', 'ix': 51, 'text': \"The little tales they tell are false. The door was barred, locked, and bolted as well. Ripe pears are fit for a queen's table. A big wet stain was on the round carpet. The kite dipped and swayed, but stayed aloft. The pleasant hours fly by much too soon. The room was crowded with a wild mob. This strong arm shall shield your honor. She blushed when he gave her a white orchid. The beetle droned in the hot June sun.\", 'distance': 113, 'next_distance': 304}\n",
      "\n",
      "finding the best transcript for /home/ons21553/wspace/interview-transcripts/src/../data/recordings/harvard/OSR_uk_000_0050_8k.wav\n",
      "found {'audio_fpath': '/home/ons21553/wspace/interview-transcripts/src/../data/recordings/harvard/OSR_uk_000_0050_8k.wav', 'ix': 51, 'text': \"The little tales they tell are false. The door was barred, locked, and bolted as well. Ripe pears are fit for a queen's table. A big wet stain was on the round carpet. The kite dipped and swayed, but stayed aloft. The pleasant hours fly by much too soon. The room was crowded with a wild mob. This strong arm shall shield your honor. She blushed when he gave her a white orchid. The beetle droned in the hot June sun.\", 'distance': 117, 'next_distance': 305}\n",
      "\n",
      "finding the best transcript for /home/ons21553/wspace/interview-transcripts/src/../data/recordings/harvard/OSR_uk_000_0047_8k.wav\n",
      "found {'audio_fpath': '/home/ons21553/wspace/interview-transcripts/src/../data/recordings/harvard/OSR_uk_000_0047_8k.wav', 'ix': 41, 'text': 'Nudge gently but wake her now. The news struck doubt into restless minds. Once we stood beside the shore. A chink in the wall allowed a draft to blow. Fasten two pins on each side. A cold dip restores health and zest. He takes the oath of office each March. The sand drifts over the sill of the old house. The point of the steel pen was bent and twisted. There is a lag between thought and act.', 'distance': 69, 'next_distance': 275}\n",
      "\n",
      "finding the best transcript for /home/ons21553/wspace/interview-transcripts/src/../data/recordings/harvard/OSR_uk_000_0022_8k.wav\n",
      "found {'audio_fpath': '/home/ons21553/wspace/interview-transcripts/src/../data/recordings/harvard/OSR_uk_000_0022_8k.wav', 'ix': 2, 'text': 'The small pup gnawed a hole in the sock. The fish twisted and turned on the bent hook. Press the pants and sew a button on the vest. The swan dive was far short of perfect. The beauty of the view stunned the young boy. Two blue fish swam in the tank. Her purse was full of useless trash. The colt reared and threw the tall rider. It snowed, rained, and hailed the same morning. Read verse out loud for pleasure.', 'distance': 58, 'next_distance': 278}\n",
      "\n",
      "finding the best transcript for /home/ons21553/wspace/interview-transcripts/src/../data/recordings/harvard/OSR_uk_000_0025_8k.wav\n",
      "found {'audio_fpath': '/home/ons21553/wspace/interview-transcripts/src/../data/recordings/harvard/OSR_uk_000_0025_8k.wav', 'ix': 0, 'text': \"The birch canoe slid on the smooth planks. Glue the sheet to the dark blue background. It's easy to tell the depth of a well. These days a chicken leg is a rare dish. Rice is often served in round bowls. The juice of lemons makes fine punch. The box was thrown beside the parked truck. The hogs were fed chopped corn and garbage. Four hours of steady work faced us. Large size in stockings is hard to sell.\", 'distance': 63, 'next_distance': 285}\n",
      "\n",
      "finding the best transcript for /home/ons21553/wspace/interview-transcripts/src/../data/recordings/harvard/OSR_uk_000_0023_8k.wav\n",
      "found {'audio_fpath': '/home/ons21553/wspace/interview-transcripts/src/../data/recordings/harvard/OSR_uk_000_0023_8k.wav', 'ix': 3, 'text': 'Hoist the load to your left shoulder. Take the winding path to reach the lake. Note closely the size of the gas tank. Wipe the grease off his dirty face. Mend the coat before you go out. The wrist was badly strained and hung limp. The stray cat gave birth to kittens. The young girl gave no clear response. The meal was cooked before the bell rang. What joy there is in living.', 'distance': 39, 'next_distance': 268}\n",
      "\n",
      "finding the best transcript for /home/ons21553/wspace/interview-transcripts/src/../data/recordings/harvard/OSR_uk_000_0021_8k.wav\n",
      "found {'audio_fpath': '/home/ons21553/wspace/interview-transcripts/src/../data/recordings/harvard/OSR_uk_000_0021_8k.wav', 'ix': 1, 'text': \"The boy was there when the sun rose. A rod is used to catch pink salmon. The source of the huge river is the clear spring. Kick the ball straight and follow through. Help the woman get back to her feet. A pot of tea helps to pass the evening. Smoky fires lack flame and heat. The soft cushion broke the man's fall. The salt breeze came across from the sea. The girl at the booth sold fifty bonds.\", 'distance': 53, 'next_distance': 268}\n",
      "\n",
      "finding the best transcript for /home/ons21553/wspace/interview-transcripts/src/../data/recordings/harvard/OSR_uk_000_0029_8k.wav\n",
      "found {'audio_fpath': '/home/ons21553/wspace/interview-transcripts/src/../data/recordings/harvard/OSR_uk_000_0029_8k.wav', 'ix': 4, 'text': 'A king ruled the state in the early days. The ship was torn apart on the sharp reef. Sickness kept him home the third week. The wide road shimmered in the hot sun. The lazy cow lay in the cool grass. Lift the square stone over the fence. The rope will bind the seven books at once. Hop over the fence and plunge in. The friendly gang left the drug store. Mesh wire keeps chicks inside.', 'distance': 42, 'next_distance': 267}\n",
      "\n",
      "finding the best transcript for /home/ons21553/wspace/interview-transcripts/src/../data/recordings/harvard/OSR_uk_000_0028_8k.wav\n",
      "found {'audio_fpath': '/home/ons21553/wspace/interview-transcripts/src/../data/recordings/harvard/OSR_uk_000_0028_8k.wav', 'ix': 3, 'text': 'Hoist the load to your left shoulder. Take the winding path to reach the lake. Note closely the size of the gas tank. Wipe the grease off his dirty face. Mend the coat before you go out. The wrist was badly strained and hung limp. The stray cat gave birth to kittens. The young girl gave no clear response. The meal was cooked before the bell rang. What joy there is in living.', 'distance': 49, 'next_distance': 265}\n",
      "\n",
      "finding the best transcript for /home/ons21553/wspace/interview-transcripts/src/../data/recordings/harvard/OSR_uk_000_0026_8k.wav\n",
      "found {'audio_fpath': '/home/ons21553/wspace/interview-transcripts/src/../data/recordings/harvard/OSR_uk_000_0026_8k.wav', 'ix': 1, 'text': \"The boy was there when the sun rose. A rod is used to catch pink salmon. The source of the huge river is the clear spring. Kick the ball straight and follow through. Help the woman get back to her feet. A pot of tea helps to pass the evening. Smoky fires lack flame and heat. The soft cushion broke the man's fall. The salt breeze came across from the sea. The girl at the booth sold fifty bonds.\", 'distance': 51, 'next_distance': 275}\n",
      "\n",
      "finding the best transcript for /home/ons21553/wspace/interview-transcripts/src/../data/recordings/harvard/OSR_uk_000_0048_8k.wav\n",
      "found {'audio_fpath': '/home/ons21553/wspace/interview-transcripts/src/../data/recordings/harvard/OSR_uk_000_0048_8k.wav', 'ix': 42, 'text': 'Seed is needed to plant the spring corn. Draw the chart with heavy black lines. The boy owed his pal thirty cents. The chap slipped into the crowd and was lost. Hats are worn to tea and not to dinner. The ramp led up to the wide highway. Beat the dust from the rug onto the lawn. Say it slow!y but make it ring clear. The straw nest housed five robins. Screen the porch with woven straw mats.', 'distance': 87, 'next_distance': 277}\n",
      "\n",
      "finding the best transcript for /home/ons21553/wspace/interview-transcripts/src/../data/recordings/harvard/OSR_uk_000_0020_8k.wav\n",
      "found {'audio_fpath': '/home/ons21553/wspace/interview-transcripts/src/../data/recordings/harvard/OSR_uk_000_0020_8k.wav', 'ix': 0, 'text': \"The birch canoe slid on the smooth planks. Glue the sheet to the dark blue background. It's easy to tell the depth of a well. These days a chicken leg is a rare dish. Rice is often served in round bowls. The juice of lemons makes fine punch. The box was thrown beside the parked truck. The hogs were fed chopped corn and garbage. Four hours of steady work faced us. Large size in stockings is hard to sell.\", 'distance': 37, 'next_distance': 284}\n",
      "\n",
      "finding the best transcript for /home/ons21553/wspace/interview-transcripts/src/../data/recordings/harvard/OSR_uk_000_0024_8k.wav\n",
      "found {'audio_fpath': '/home/ons21553/wspace/interview-transcripts/src/../data/recordings/harvard/OSR_uk_000_0024_8k.wav', 'ix': 4, 'text': 'A king ruled the state in the early days. The ship was torn apart on the sharp reef. Sickness kept him home the third week. The wide road shimmered in the hot sun. The lazy cow lay in the cool grass. Lift the square stone over the fence. The rope will bind the seven books at once. Hop over the fence and plunge in. The friendly gang left the drug store. Mesh wire keeps chicks inside.', 'distance': 47, 'next_distance': 265}\n",
      "\n",
      "finding the best transcript for /home/ons21553/wspace/interview-transcripts/src/../data/recordings/harvard/OSR_uk_000_0027_8k.wav\n",
      "found {'audio_fpath': '/home/ons21553/wspace/interview-transcripts/src/../data/recordings/harvard/OSR_uk_000_0027_8k.wav', 'ix': 2, 'text': 'The small pup gnawed a hole in the sock. The fish twisted and turned on the bent hook. Press the pants and sew a button on the vest. The swan dive was far short of perfect. The beauty of the view stunned the young boy. Two blue fish swam in the tank. Her purse was full of useless trash. The colt reared and threw the tall rider. It snowed, rained, and hailed the same morning. Read verse out loud for pleasure.', 'distance': 86, 'next_distance': 277}\n",
      "\n",
      "finding the best transcript for /home/ons21553/wspace/interview-transcripts/src/../data/recordings/harvard/OSR_us_000_0040_8k.wav\n",
      "found {'audio_fpath': '/home/ons21553/wspace/interview-transcripts/src/../data/recordings/harvard/OSR_us_000_0040_8k.wav', 'ix': 34, 'text': \"Most of the new is easy for us to hear. He used the lathe to make brass objects. The vane on top of the pole revolved in the wind. Mince pie is a dish served to children. The clan gathered on each dull night. Let it burn, it gives us warmth and comfort. A castle built from sand fails to endure. A child's wit saved the day for us. Tack the strip of carpet to the worn floor. Next Tuesday we must vote.\", 'distance': 52, 'next_distance': 283}\n",
      "\n",
      "finding the best transcript for /home/ons21553/wspace/interview-transcripts/src/../data/recordings/harvard/OSR_us_000_0030_8k.wav\n",
      "found {'audio_fpath': '/home/ons21553/wspace/interview-transcripts/src/../data/recordings/harvard/OSR_us_000_0030_8k.wav', 'ix': 56, 'text': 'Paint the sockets in the wall dull green. The child crawled into the dense grass. Bribes fail where honest men work. Trample the spark, else the flames will spread. The hilt. of the sword was carved with fine designs. A round hole was drilled through the thin board. Footprints showed the path he took up the beach. She was waiting at my front lawn. A vent near the edge brought in fresh air. Prod the old mule with a crooked stick.', 'distance': 46, 'next_distance': 287}\n",
      "\n",
      "finding the best transcript for /home/ons21553/wspace/interview-transcripts/src/../data/recordings/harvard/OSR_us_000_0017_8k.wav\n",
      "found {'audio_fpath': '/home/ons21553/wspace/interview-transcripts/src/../data/recordings/harvard/OSR_us_000_0017_8k.wav', 'ix': 2, 'text': 'The small pup gnawed a hole in the sock. The fish twisted and turned on the bent hook. Press the pants and sew a button on the vest. The swan dive was far short of perfect. The beauty of the view stunned the young boy. Two blue fish swam in the tank. Her purse was full of useless trash. The colt reared and threw the tall rider. It snowed, rained, and hailed the same morning. Read verse out loud for pleasure.', 'distance': 122, 'next_distance': 277}\n",
      "\n",
      "finding the best transcript for /home/ons21553/wspace/interview-transcripts/src/../data/recordings/harvard/OSR_us_000_0037_8k.wav\n",
      "found {'audio_fpath': '/home/ons21553/wspace/interview-transcripts/src/../data/recordings/harvard/OSR_us_000_0037_8k.wav', 'ix': 31, 'text': 'The store walls were lined with colored frocks. The peace league met to discuss their plans. The rise to fame of a person takes luck. Paper is scarce, so write with much care. The quick fox jumped on the sleeping cat. The nozzle of the fire hose was bright brass. Screw the round cap on as tight as needed. Time brings us many changes. The purple tie was ten years old. Men think and plan and sometimes act.', 'distance': 71, 'next_distance': 281}\n",
      "\n",
      "finding the best transcript for /home/ons21553/wspace/interview-transcripts/src/../data/recordings/harvard/OSR_us_000_0011_8k.wav\n",
      "found {'audio_fpath': '/home/ons21553/wspace/interview-transcripts/src/../data/recordings/harvard/OSR_us_000_0011_8k.wav', 'ix': 1, 'text': \"The boy was there when the sun rose. A rod is used to catch pink salmon. The source of the huge river is the clear spring. Kick the ball straight and follow through. Help the woman get back to her feet. A pot of tea helps to pass the evening. Smoky fires lack flame and heat. The soft cushion broke the man's fall. The salt breeze came across from the sea. The girl at the booth sold fifty bonds.\", 'distance': 135, 'next_distance': 264}\n",
      "\n",
      "finding the best transcript for /home/ons21553/wspace/interview-transcripts/src/../data/recordings/harvard/OSR_us_000_0034_8k.wav\n",
      "found {'audio_fpath': '/home/ons21553/wspace/interview-transcripts/src/../data/recordings/harvard/OSR_us_000_0034_8k.wav', 'ix': 71, 'text': \"A gold ring will please most any girl. The long journey home took a year. She saw a cat in the neighbor's house. A pink shell was found on the sandy beach. Small children came to see him. The grass and bushes were wet with dew. The blind man counted his old coins. A severe storm tore down the barn. She called his name many times. When you hear the bell, come quickly.\", 'distance': 41, 'next_distance': 270}\n",
      "\n",
      "finding the best transcript for /home/ons21553/wspace/interview-transcripts/src/../data/recordings/harvard/OSR_us_000_0012_8k.wav\n",
      "found {'audio_fpath': '/home/ons21553/wspace/interview-transcripts/src/../data/recordings/harvard/OSR_us_000_0012_8k.wav', 'ix': 2, 'text': 'The small pup gnawed a hole in the sock. The fish twisted and turned on the bent hook. Press the pants and sew a button on the vest. The swan dive was far short of perfect. The beauty of the view stunned the young boy. Two blue fish swam in the tank. Her purse was full of useless trash. The colt reared and threw the tall rider. It snowed, rained, and hailed the same morning. Read verse out loud for pleasure.', 'distance': 97, 'next_distance': 276}\n",
      "\n",
      "finding the best transcript for /home/ons21553/wspace/interview-transcripts/src/../data/recordings/harvard/OSR_us_000_0019_8k.wav\n",
      "found {'audio_fpath': '/home/ons21553/wspace/interview-transcripts/src/../data/recordings/harvard/OSR_us_000_0019_8k.wav', 'ix': 4, 'text': 'A king ruled the state in the early days. The ship was torn apart on the sharp reef. Sickness kept him home the third week. The wide road shimmered in the hot sun. The lazy cow lay in the cool grass. Lift the square stone over the fence. The rope will bind the seven books at once. Hop over the fence and plunge in. The friendly gang left the drug store. Mesh wire keeps chicks inside.', 'distance': 96, 'next_distance': 253}\n",
      "\n",
      "finding the best transcript for /home/ons21553/wspace/interview-transcripts/src/../data/recordings/harvard/OSR_us_000_0061_8k.wav\n",
      "found {'audio_fpath': '/home/ons21553/wspace/interview-transcripts/src/../data/recordings/harvard/OSR_us_000_0061_8k.wav', 'ix': 29, 'text': 'The mute muffled the high tones of the horn. The gold ring fits only a pierced ear. The old pan was covered with hard fudge. Watch the log float in the wide river. The node on the stalk of wheat grew daily. The heap of fallen leaves was set on fire. Write fast, if you want to finish early. His shirt was clean but one button was gone. The barrel of beer was a brew of malt and hops. Tin cans are absent from store shelves.', 'distance': 47, 'next_distance': 280}\n",
      "\n",
      "finding the best transcript for /home/ons21553/wspace/interview-transcripts/src/../data/recordings/harvard/OSR_us_000_0013_8k.wav\n",
      "found {'audio_fpath': '/home/ons21553/wspace/interview-transcripts/src/../data/recordings/harvard/OSR_us_000_0013_8k.wav', 'ix': 3, 'text': 'Hoist the load to your left shoulder. Take the winding path to reach the lake. Note closely the size of the gas tank. Wipe the grease off his dirty face. Mend the coat before you go out. The wrist was badly strained and hung limp. The stray cat gave birth to kittens. The young girl gave no clear response. The meal was cooked before the bell rang. What joy there is in living.', 'distance': 113, 'next_distance': 263}\n",
      "\n",
      "finding the best transcript for /home/ons21553/wspace/interview-transcripts/src/../data/recordings/harvard/OSR_us_000_0010_8k.wav\n",
      "found {'audio_fpath': '/home/ons21553/wspace/interview-transcripts/src/../data/recordings/harvard/OSR_us_000_0010_8k.wav', 'ix': 0, 'text': \"The birch canoe slid on the smooth planks. Glue the sheet to the dark blue background. It's easy to tell the depth of a well. These days a chicken leg is a rare dish. Rice is often served in round bowls. The juice of lemons makes fine punch. The box was thrown beside the parked truck. The hogs were fed chopped corn and garbage. Four hours of steady work faced us. Large size in stockings is hard to sell.\", 'distance': 144, 'next_distance': 278}\n",
      "\n",
      "finding the best transcript for /home/ons21553/wspace/interview-transcripts/src/../data/recordings/harvard/OSR_us_000_0015_8k.wav\n",
      "found {'audio_fpath': '/home/ons21553/wspace/interview-transcripts/src/../data/recordings/harvard/OSR_us_000_0015_8k.wav', 'ix': 0, 'text': \"The birch canoe slid on the smooth planks. Glue the sheet to the dark blue background. It's easy to tell the depth of a well. These days a chicken leg is a rare dish. Rice is often served in round bowls. The juice of lemons makes fine punch. The box was thrown beside the parked truck. The hogs were fed chopped corn and garbage. Four hours of steady work faced us. Large size in stockings is hard to sell.\", 'distance': 100, 'next_distance': 278}\n",
      "\n",
      "finding the best transcript for /home/ons21553/wspace/interview-transcripts/src/../data/recordings/harvard/OSR_us_000_0057_8k.wav\n",
      "found {'audio_fpath': '/home/ons21553/wspace/interview-transcripts/src/../data/recordings/harvard/OSR_us_000_0057_8k.wav', 'ix': 24, 'text': 'On the islands the sea breeze is soft and mild. The play began as soon as we sat down. This will lead the world to more sound and fury\\n Add salt before you fry the egg. The rush for funds reached its peak Tuesday. The birch looked stark white and lonesome. The box is held by a bright red snapper. To make pure ice, you freeze water. The first worm gets snapped early. Jump the fence and hurry up the bank.', 'distance': 45, 'next_distance': 284}\n",
      "\n",
      "finding the best transcript for /home/ons21553/wspace/interview-transcripts/src/../data/recordings/harvard/OSR_us_000_0031_8k.wav\n",
      "found {'audio_fpath': '/home/ons21553/wspace/interview-transcripts/src/../data/recordings/harvard/OSR_us_000_0031_8k.wav', 'ix': 58, 'text': 'Every word and phrase he speaks is true. He put his last cartridge into the gun and fired. They took their kids from the public school. Drive the screw straight into the wood. Keep the hatch tight and the watch constant. Sever the twine with a quick snip of the knife. Paper will dry out when wet. Slide the catch back and open the desk. Help the weak to preserve their strength. A sullen smile gets few friends.', 'distance': 42, 'next_distance': 287}\n",
      "\n",
      "finding the best transcript for /home/ons21553/wspace/interview-transcripts/src/../data/recordings/harvard/OSR_us_000_0018_8k.wav\n",
      "found {'audio_fpath': '/home/ons21553/wspace/interview-transcripts/src/../data/recordings/harvard/OSR_us_000_0018_8k.wav', 'ix': 3, 'text': 'Hoist the load to your left shoulder. Take the winding path to reach the lake. Note closely the size of the gas tank. Wipe the grease off his dirty face. Mend the coat before you go out. The wrist was badly strained and hung limp. The stray cat gave birth to kittens. The young girl gave no clear response. The meal was cooked before the bell rang. What joy there is in living.', 'distance': 109, 'next_distance': 262}\n",
      "\n",
      "finding the best transcript for /home/ons21553/wspace/interview-transcripts/src/../data/recordings/harvard/OSR_us_000_0059_8k.wav\n",
      "found {'audio_fpath': '/home/ons21553/wspace/interview-transcripts/src/../data/recordings/harvard/OSR_us_000_0059_8k.wav', 'ix': 26, 'text': 'The dark pot hung in the front closet. Carry the pail to the wall and spill it there. The train brought our hero to the big town. We are sure that one war is enough. Gray paint stretched for miles around. The rude laugh filled the empty room. High seats are best for football fans. Tea served from the brown jug is tasty. A dash of pepper spoils beef stew. A zestful food is the hot-cross bun.', 'distance': 54, 'next_distance': 275}\n",
      "\n",
      "finding the best transcript for /home/ons21553/wspace/interview-transcripts/src/../data/recordings/harvard/OSR_us_000_0039_8k.wav\n",
      "found {'audio_fpath': '/home/ons21553/wspace/interview-transcripts/src/../data/recordings/harvard/OSR_us_000_0039_8k.wav', 'ix': 33, 'text': 'Nine rows of soldiers stood in line. The beach is dry and shallow at low tide. The idea is to sew both edges straight. The kitten chased the dog down the street. Pages bound in cloth make a book. Try to trace the fine lines of the painting. Women form less than half of the group. The zones merge in the central part of town. A gem in the rough needs work to polish. Code is used when secrets are sent.', 'distance': 36, 'next_distance': 285}\n",
      "\n",
      "finding the best transcript for /home/ons21553/wspace/interview-transcripts/src/../data/recordings/harvard/OSR_us_000_0036_8k.wav\n",
      "found {'audio_fpath': '/home/ons21553/wspace/interview-transcripts/src/../data/recordings/harvard/OSR_us_000_0036_8k.wav', 'ix': 30, 'text': \"Slide the box into that empty space. The plant grew large and green in the window. The beam dropped down on the workmen's head. Pink clouds floated JTith the breeze. She danced like a swan, tall and graceful. The tube was blown and the tire flat and useless. It is late morning on the old wall clock. Let's all join as we sing the last chorus. The last switch cannot be turned off. The fight will end in just six minutes.\", 'distance': 66, 'next_distance': 282}\n",
      "\n",
      "finding the best transcript for /home/ons21553/wspace/interview-transcripts/src/../data/recordings/harvard/OSR_us_000_0016_8k.wav\n",
      "found {'audio_fpath': '/home/ons21553/wspace/interview-transcripts/src/../data/recordings/harvard/OSR_us_000_0016_8k.wav', 'ix': 1, 'text': \"The boy was there when the sun rose. A rod is used to catch pink salmon. The source of the huge river is the clear spring. Kick the ball straight and follow through. Help the woman get back to her feet. A pot of tea helps to pass the evening. Smoky fires lack flame and heat. The soft cushion broke the man's fall. The salt breeze came across from the sea. The girl at the booth sold fifty bonds.\", 'distance': 110, 'next_distance': 265}\n",
      "\n",
      "finding the best transcript for /home/ons21553/wspace/interview-transcripts/src/../data/recordings/harvard/OSR_us_000_0060_8k.wav\n",
      "found {'audio_fpath': '/home/ons21553/wspace/interview-transcripts/src/../data/recordings/harvard/OSR_us_000_0060_8k.wav', 'ix': 27, 'text': 'The horse trotted around the field at a brisk pace. Find the twin who stole the pearl necklace. Cut the cord that binds the box tightly. The red tape bound the smuggled food. Look in the corner to find the tan shirt. The cold drizzle will halt the bond drive. Nine men were hired to dig the ruins. The junk yard had a mouldy smell. The flint sputtered and lit a pine torch. Soak the cloth and drown the sharp odor.', 'distance': 72, 'next_distance': 280}\n",
      "\n",
      "finding the best transcript for /home/ons21553/wspace/interview-transcripts/src/../data/recordings/harvard/OSR_us_000_0032_8k.wav\n",
      "found {'audio_fpath': '/home/ons21553/wspace/interview-transcripts/src/../data/recordings/harvard/OSR_us_000_0032_8k.wav', 'ix': 22, 'text': 'A pencil with black lead writes best. Coax a young calf to drink from a bucket. Schools for ladies teach charm and grace. The lamp shone with a steady green flame. They took the axe and the saw to the forest. The ancient coin was quite dull and worn. The shaky barn fell with a loud crash. Jazz and swing fans like fast music. Rake the rubbish up and then burn it. Slash the gold cloth into fine ribbons.', 'distance': 116, 'next_distance': 319}\n",
      "\n",
      "finding the best transcript for /home/ons21553/wspace/interview-transcripts/src/../data/recordings/harvard/OSR_us_000_0035_8k.wav\n",
      "found {'audio_fpath': '/home/ons21553/wspace/interview-transcripts/src/../data/recordings/harvard/OSR_us_000_0035_8k.wav', 'ix': 41, 'text': 'Nudge gently but wake her now. The news struck doubt into restless minds. Once we stood beside the shore. A chink in the wall allowed a draft to blow. Fasten two pins on each side. A cold dip restores health and zest. He takes the oath of office each March. The sand drifts over the sill of the old house. The point of the steel pen was bent and twisted. There is a lag between thought and act.', 'distance': 74, 'next_distance': 279}\n",
      "\n",
      "finding the best transcript for /home/ons21553/wspace/interview-transcripts/src/../data/recordings/harvard/OSR_us_000_0014_8k.wav\n",
      "found {'audio_fpath': '/home/ons21553/wspace/interview-transcripts/src/../data/recordings/harvard/OSR_us_000_0014_8k.wav', 'ix': 4, 'text': 'A king ruled the state in the early days. The ship was torn apart on the sharp reef. Sickness kept him home the third week. The wide road shimmered in the hot sun. The lazy cow lay in the cool grass. Lift the square stone over the fence. The rope will bind the seven books at once. Hop over the fence and plunge in. The friendly gang left the drug store. Mesh wire keeps chicks inside.', 'distance': 130, 'next_distance': 258}\n",
      "\n",
      "finding the best transcript for /home/ons21553/wspace/interview-transcripts/src/../data/recordings/harvard/OSR_us_000_0038_8k.wav\n",
      "found {'audio_fpath': '/home/ons21553/wspace/interview-transcripts/src/../data/recordings/harvard/OSR_us_000_0038_8k.wav', 'ix': 32, 'text': \"Fill the ink jar with sticky glue. He smoke a big pipe with strong contents. We need grain to keep our mules healthy. Pack the records in a neat thin case. The crunch of feet in the snow was the only sound. The copper bowl shone in the sun's rays. Boards will warp unless kept dry. The plush chair leaned against the wall. Glass will clink when struck by metal. Bathe and relax in the cool green grass.\", 'distance': 62, 'next_distance': 280}\n"
     ]
    }
   ],
   "source": [
    "hv_data = hv.load()\n",
    "\n",
    "\n",
    "\n",
    "audio_fpaths = hv_data['audio']['uk'] + hv_data['audio']['us']\n",
    "results = [find_transcript(audio_fpath) for audio_fpath in audio_fpaths]"
   ]
  },
  {
   "cell_type": "code",
   "execution_count": 64,
   "metadata": {},
   "outputs": [
    {
     "data": {
      "text/plain": [
       "[]"
      ]
     },
     "execution_count": 64,
     "metadata": {},
     "output_type": "execute_result"
    }
   ],
   "source": [
    "[r for r in results if r['distance']*1.7 >= r['next_distance']]"
   ]
  },
  {
   "cell_type": "code",
   "execution_count": 66,
   "metadata": {
    "scrolled": true
   },
   "outputs": [
    {
     "name": "stderr",
     "output_type": "stream",
     "text": [
      "/home/ons21553/.local/share/virtualenvs/src-ppTQaxQI/lib/python3.6/site-packages/ipykernel_launcher.py:6: FutureWarning: The signature of `Series.to_csv` was aligned to that of `DataFrame.to_csv`, and argument 'header' will change its default value from False to True: please pass an explicit value to suppress this warning.\n",
      "  \n"
     ]
    }
   ],
   "source": [
    "mapping = {\n",
    "    r['audio_fpath']: (r['ix'] if r['distance']*1.7 < r['next_distance'] else None)\n",
    "    for r in results\n",
    "}\n",
    "\n",
    "pd.Series(mapping).to_csv(from_data_root('recordings/harvard/mapping.csv'))"
   ]
  },
  {
   "cell_type": "code",
   "execution_count": 13,
   "metadata": {},
   "outputs": [
    {
     "data": {
      "text/plain": [
       "'/home/ons21553/wspace/interview-transcripts/src/../data/recordings/harvard/mapping.csv'"
      ]
     },
     "execution_count": 13,
     "metadata": {},
     "output_type": "execute_result"
    }
   ],
   "source": [
    "hv_common.MAPPING_FPATH"
   ]
  },
  {
   "cell_type": "code",
   "execution_count": 40,
   "metadata": {},
   "outputs": [],
   "source": [
    "import os"
   ]
  },
  {
   "cell_type": "code",
   "execution_count": 42,
   "metadata": {},
   "outputs": [],
   "source": []
  },
  {
   "cell_type": "code",
   "execution_count": 46,
   "metadata": {},
   "outputs": [
    {
     "data": {
      "text/plain": [
       "'OSR_us_000_0017_8k.wav'"
      ]
     },
     "execution_count": 46,
     "metadata": {},
     "output_type": "execute_result"
    }
   ],
   "source": [
    "os.path.basename(r[1]['audio_fpath'])"
   ]
  },
  {
   "cell_type": "code",
   "execution_count": 48,
   "metadata": {},
   "outputs": [],
   "source": [
    "mapping = pd.read_csv(hv_common.MAPPING_FPATH, header=None, \n",
    "                      names=['audio_fpath', 'transcript_fpath'])\n",
    "for r in mapping.dropna().iterrows():\n",
    "    fname = os.path.basename(r[1]['audio_fpath']).replace('.wav', '')\n",
    "    copyfile(r[1]['audio_fpath'], f'{hv_common.DIR_MATCHED}/{fname}.wav')\n",
    "    copyfile(r[1]['transcript_fpath'], f'{hv_common.DIR_MATCHED}/{fname}.txt')"
   ]
  },
  {
   "cell_type": "code",
   "execution_count": 29,
   "metadata": {},
   "outputs": [
    {
     "data": {
      "text/plain": [
       "Index(['/home/ons21553/wspace/interview-transcripts/src/../data/recordings/harvard/OSR_uk_000_0049_8k.wav', '57'], dtype='object')"
      ]
     },
     "execution_count": 29,
     "metadata": {},
     "output_type": "execute_result"
    }
   ],
   "source": [
    "list(mapping.iterrows())[0][1].index"
   ]
  }
 ],
 "metadata": {
  "kernelspec": {
   "display_name": "Python 3",
   "language": "python",
   "name": "python3"
  },
  "language_info": {
   "codemirror_mode": {
    "name": "ipython",
    "version": 3
   },
   "file_extension": ".py",
   "mimetype": "text/x-python",
   "name": "python",
   "nbconvert_exporter": "python",
   "pygments_lexer": "ipython3",
   "version": "3.6.8"
  }
 },
 "nbformat": 4,
 "nbformat_minor": 4
}
