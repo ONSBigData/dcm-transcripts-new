{
 "cells": [
  {
   "cell_type": "code",
   "execution_count": 5,
   "metadata": {},
   "outputs": [],
   "source": [
    "import speech_recognition as sr\n",
    "\n",
    "def transcribe(filename, basename, mechs=None, seconds=11):\n",
    "    if not mechs:\n",
    "        print(\"No transcription mechanisms specified, skipping\")\n",
    "        return\n",
    "    if not os.path.exists(filename):\n",
    "        print(\"Audio input file does not exist, skipping\")\n",
    "        return\n",
    "\n",
    "    w = None\n",
    "    \n",
    "    try:\n",
    "        w = wave.open(filename, 'r')\n",
    "        start_frame = 0\n",
    "        length = w.getnframes()\n",
    "        block_size = w.getframerate() * seconds # 11 seconds (default) recognition snippets\n",
    "        overlap = w.getframerate()    *  1      #  1 second overlap between blocks\n",
    "        asr= w.getframerate() \n",
    "        lastframeend = start_frame\n",
    "\n",
    "        for m in mechs:\n",
    "            m.start(basename)\n",
    "\n",
    "        while lastframeend < w.getnframes()-1:\n",
    "            start = max(0, lastframeend - overlap)\n",
    "            end = min(lastframeend + block_size, w.getnframes()-1)\n",
    "            lastframeend = end + 1\n",
    "            print(\"Processing frame {start} (second {ssec} ) to frame {end} (second {esec} )\".format(start=start, ssec=start/asr, end=end, esec=end/asr))\n",
    "            w.setpos(start) # Set position on the original wav file\n",
    "            chunkData = w.readframes(end-start) # And read to where we need\n",
    "\n",
    "      # Create temporary file containing snippet of audio for processing  \n",
    "            chunkAudio = None\n",
    "            tempfile = 'temp.wav'\n",
    "            try: \n",
    "                chunkAudio = wave.open(tempfile,'w')\n",
    "                chunkAudio.setnchannels(w.getnchannels())\n",
    "                chunkAudio.setsampwidth(w.getsampwidth())\n",
    "                chunkAudio.setframerate(w.getframerate())\n",
    "                chunkAudio.writeframes(chunkData)\n",
    "            finally:\n",
    "                if chunkAudio:\n",
    "                    chunkAudio.close()\n",
    "\n",
    "            timecode = int(start / w.getframerate())\n",
    "            timecode = \"[%02d:%02d] \" % (int(timecode / 60), timecode % 60)\n",
    "\n",
    "            for m in mechs:\n",
    "                m.recognize(tempfile, timecode)\n",
    " \n",
    "    finally:\n",
    "        if w:\n",
    "            w.close()\n",
    "        \n",
    "        for m in mechs:\n",
    "            m.done()\n",
    "        print(\"All done.\")\n",
    "    \n",
    "    "
   ]
  },
  {
   "cell_type": "code",
   "execution_count": 2,
   "metadata": {},
   "outputs": [],
   "source": [
    "\n",
    "    \n",
    "    \n",
    "class transcribe_sphinx():\n",
    "    def __repr__(self):\n",
    "        return \"Sphinx\"\n",
    "    \n",
    "    def done(self):\n",
    "        if self.output_file:\n",
    "            self.output_file.close()\n",
    "            self.output_file = None\n",
    "\n",
    "    def __init__(self, options):\n",
    "        self.recognizer = sr.Recognizer()\n",
    "        self.language = 'en-US'\n",
    "        self.output_file = None\n",
    "\n",
    "    def start(self, basename):\n",
    "        self.done()\n",
    "        outname = basename + '_sphinx.txt'\n",
    "        self.output_file = open(outname, 'wt')\n",
    "        print(\"Writing sphinx transcription to {0}\".format(outname))\n",
    "\n",
    "    def recognize(self, tempfile, timecode):\n",
    "        with sr.AudioFile(tempfile) as source:\n",
    "            audio = self.recognizer.record(source) # read the snippet file\n",
    "    # recognize speech using Sphinx\n",
    "        try:\n",
    "            recognized = self.recognizer.recognize_sphinx(audio, language='en-US')\n",
    "            self.output_file.write(timecode)\n",
    "            self.output_file.write(recognized )\n",
    "            \n",
    "        except sr.UnknownValueError:\n",
    "              print(\"Sphinx could not understand audio\")\n",
    "        except sr.RequestError as e:\n",
    "              print(\"Sphinx error: {0}\".format(e))\n",
    "\n",
    "            "
   ]
  },
  {
   "cell_type": "code",
   "execution_count": null,
   "metadata": {},
   "outputs": [],
   "source": []
  },
  {
   "cell_type": "code",
   "execution_count": 3,
   "metadata": {
    "scrolled": true
   },
   "outputs": [
    {
     "name": "stdout",
     "output_type": "stream",
     "text": [
      "Writing sphinx transcription to transcr_sphinx.txt\n",
      "Processing frame 0 (second 0.0 ) to frame 882000 (second 20.0 )\n",
      "Processing frame 837901 (second 19.00002267573696 ) to frame 1764001 (second 40.000022675736965 )\n",
      "Processing frame 1719902 (second 39.00004535147392 ) to frame 1830463 (second 41.50709750566894 )\n",
      "All done.\n"
     ]
    }
   ],
   "source": [
    "import os\n",
    "import os\n",
    "import string\n",
    "import sys\n",
    "import time\n",
    "import wave\n",
    "\n",
    "f='/home/bigdata/scripts/DEMO_AUDIO_TEXT/ZOOM0017.WAV'\n",
    "basename='transcr'\n",
    "mechs = []\n",
    "mechs.append(transcribe_sphinx(''))\n",
    "transcribe(f, basename, mechs=mechs, seconds=20)"
   ]
  },
  {
   "cell_type": "code",
   "execution_count": 9,
   "metadata": {},
   "outputs": [
    {
     "name": "stdout",
     "output_type": "stream",
     "text": [
      "Sphinx error; recognition connection failed: [Errno 32] Broken pipe\n"
     ]
    }
   ],
   "source": [
    "\n",
    "r = sr.Recognizer()\n",
    "with sr.AudioFile('bbcout.wav') as source:\n",
    "    audio = r.record(source)  # read the entire audio file\n",
    " \n",
    "# recognize speech using Sphinx\n",
    "try:\n",
    "    \n",
    "    #transcr=(r.recognize_sphinx(audio))\n",
    "    transcr=(r.recognize_google(audio))\n",
    "    print(transcr)\n",
    "except sr.UnknownValueError:\n",
    "    print(\"Sphinx could not understand audio\")\n",
    "except sr.RequestError as e:\n",
    "    print(\"Sphinx error; {0}\".format(e))"
   ]
  },
  {
   "cell_type": "code",
   "execution_count": 4,
   "metadata": {},
   "outputs": [
    {
     "name": "stdout",
     "output_type": "stream",
     "text": [
      "[00:00] i think hank said that era son of just try to think about chieftains war and came to him and run for things to him than he needs and to the center for with c.[00:19] oh it seemed to be shameful that simi h. i. v. any yeah cut it faith in continuing one fact that female fung half of paying think now that that can i respond to there[00:39] hit her time in bed for damn them place you have made to wipe it came in and shut it th won't i seem to think this instructions have been wonderful[00:59] and finland walton's that he can beat him temptation man had the cheetah codification degraded whoa now have haiti's a mandate he yes i have not afraid that[01:19] to have him one faith and continue to i didn't say that folks get the time i'm chief he has he's asked me if the peace he hesitates i think that[01:39] i spent a half yeah and have gone up five over eighty if he's eighty cfo and i have got affairs p. c. s. c. c. never had not test case when it mean the me he he hurts him as an angel glamour[01:59] angel playing with the stems when the me and we're deep in blinking it me tell tony come how i'm gonna poke fun at angel[02:19] your name champion complication wall bureaucrats to buy fashion of the matter courageous impacted by the e. p. s. ass is mine monks this and i mean it might they my mouth get this job actually at night to me face to face[02:39] and is that we think they had that evening has changed me the things that can come thick vera also to compete in aggressiveness on the discovery of chopped apart when i came[02:59] i can this so you with us live stock whilst knew how are you fell onto the russians have flying asked me add get stiff ordinary and how easy you what if wasn't for you talk to the quirky today[03:19] they found were there any questions is it out he and nina lange about that yes but on the path and why are they taking medicine and if they have what'd you think of this question and i just felt that it is a state[03:39] it is a strange that i read a headline they became known that iron fence and i'm i am sorry not my intent salinity giant fannie came out at night john vinnie had already written yes the u. never in my name names they became the head arm[03:59] okay so you want to do on the stand this question to be lost me i'm whether i have rights that i am i get this country and our holly's your gift was a response to questions the shots a kissing up to me the alaskan city to vote out of the war[04:19] so who no teeth victim was a boston's question is if i guess the first time a slice and iwerks term funds to the other option is no emotional never polka oh why and that that the act i k. said am i[04:39] said it might be better than somebody else sees that mang en batman all right but some of these meaningful than this day and the house and i'm syndicates and submit hotline they now i can say yeah it is a loser would you on the stock market studios and stunt into its asking me if i can[04:59] catherine harrison he's named i've tied to a bull a financing interactions that cop and a time and to new suggestions from previous question madam enoch to rephrase the question in your hand wants had thought it a case you[05:19] if the case to the about the question is now free owns an qualifications his body maybe he advocates good practice and unless the questions that and said that none of that's it and that's a conjunction[05:39] originally told him that that's not a sequence of questions for the gift and hang in there hung out at seven a.[05:59] set up a civil gigi thing about the secrets of the question is um he had a test of time to get saved my qualifications hands a text when three in the and let them in[06:19] here with gigi think about the board to the questions of booze and and i'm a seem to get him heinsohn that at o. k. he faces a tiny his life can i think commonwealth a case i think it is not for nineteen ninety get the thing i went out[06:39] he said i went out the night and the key and i say again so acceptable on except to chief u. inscriptions folk festival yeah that's at a candidate hwang ok why what'd you think they were big step toward the was an acceptable to a kiss[06:59] because there is nothing i'm excited about asking that maybe i was anything yeah it is fine maniac now says unlike its downs and yet he added he tossed them in a little bit bum what you think about the number of the questions that are actually i feel rested on saturday at is that there were a bad[07:19] and i guess as it but the cases that essay santa fe them and how except for an acceptable to the number of questions for the fact that will he end me ask what you think successful than i am saying things that[07:39] i'm saying successful and honey schiller the eight sites in the face of that my highest on vacation and announce me anymore and i think that with the advice that is that sydney hey um yeah i guess it's a pay attention[07:59] hey hey i didn't have anything to hide senate select the advocate for a man how would you fit it all we lost the secrets of questions about your qualifications on in that sense is lying i guess i guess a freedom that gets the sense that the questions they have huh[08:19] i have to get 'em without the excess wants that to you that the asset nonsense that's the kind yet in india news and why would we said to them not me and if that is there a sense this indicates that and get a cold day in history as they seek the[08:39] basically a yet they get einstein dictated and how easy to call was it for you to homes of secrets of questions about what occasion as easy easy to tell me wall made easy death then i guess at the summit convened by the house to write that can i get to escape and singing[08:59] can say me and yet this guy yeah thank you how confident or no kong flu for you to you go to the sequence of questions about her the cop and none of them whether you qualifications three weren't able to record is also i said i'm[09:19] and i'm not hat clarification the way if done the south gate and make love that i find i'm it's qualifications man wasn't a crew of a hand the c. yeah now the n. e.[09:39] rafferty who modification i would want to make what was it that i'm in pain in i have every single professional hundred vacation and then back again and asked that i should probably take the sta that vehicle sending a credit to my professional body because i think these are professional bobby mason[09:59] be nice and neat credit i'm that's cool said that we have gps to that in hindsight yeah and they come and sit on the film automobile quoted from her but he activates act crazy kids alive now says it kind of tac s. e. c. n. n. e. t.'s in actually an inch[10:19] actually i change kindness said yeah yeah that's that's what i had revolves around malaga school of our questions individually at any time that if we do thou of busting you kate you in qualifications question becomes was this[10:39] was this instruction to shoot any form of fortifications you that richie than and waves or elsewhere even if one is now got mean that the house and existing structure that i find that some analysis green eyes only wasn't a question on at night is the big green continued on and if the plan[10:59] and face their youth and the instructions now we will see you on this that the court in the instructions to meet a guy hitting the national mall qualifications i thought that he convened in wales for our flag even now not easy now said i guess a clarification[11:19] clarifications i got my decency slick cheating in blending society scenes i think a basement kind has closed the case is cheap and scott and what command alex land and i'm not using my time and that's why many alongside the things that i would be in play date that i didn't get a chance to recall[11:39] accounts to record it because i accidentally picked maryland fashion barbie's question that the kingdom moves you on this time for a full moon qualifications uh-huh and just full of vacations i guess i am yeah and puffy[11:59] but vacations and some of the haiti mocked and i think sam then get sent to haiti and he said professional ability your examination and although some hay hands you counsel he failed semi phase a guy that pig pen[12:19] and more key thing is meant by a full moon qualifications but even if you're more news in the i guess i i kind of thing and i've known very kind i'm yes i am ease any of the things i made of and now i'm not even saying statistics because kind analysis is about having a hypothesis[12:39] and i often say is that and creating a stir when i be sent to haiti now is amounting to me such questions is a different said oh yeah and city g. includes disqualification walls of his affections go of patients man found that time that flat[12:59] kindness one hand he tell me why one because it doesn't cost you a listening to the net income and i think he didn't come under a necklace internet indecency salim house at that meeting at how frowned at questioning me and asked me and i have a hand something accredited by profession body[13:19] that's your body i got out hey i've done that if they found what do you on the stand about chief to have me as i passed and what you think the instructions mean by an why usual elsewhere in the whale to ask why[13:39] it the last laugh any land anywhere in a while that pays attention on do you know any qualifications for ross fighting and the abbe kind on this one says that the lounge out in the suggestions for improving the instructions now actually making a play the jury freeze[13:59] a jewish resume your aim was facing paid any formal qualifications eight achieved any laugh even penalties and now i can say plants that have to do don't see the question home front[14:19] question o. friendships no arm and this question and they found we of us fools homesickness question and nothing may just basic yeah go ahead subject matter what you think the question is oscar[14:39] exhaustive five hundred and five with the seventeenth in a qualification nine i guess sam's unintentional cowgirls have been a brown suit is the moon jonas someone turned to shit i say something that they might be a fake[14:59] i think i see it as a plastic a caicedo something big is he to meet the new saw movement ship can mean the change hands on the australian back for a saying anything that i can guess to why take metaxas last week the air[15:19] our economy and its mechanic yeah i think you put you on the stand by him completed an apprenticeship think that he can see you all sit in the discretion yet of how the g. destroyed drops of the site of the timeline that[15:39] am i to how sure are you the roams the lucy show that we think you know when you owns this question what did you include plentiful happens to this than just in any plan that comes out and i don't get a mosul[15:59] and most aloof of friendships we think of discipline sites that iraq day unchanged and comments that so vain and had a case began to them[16:19] stay with you being cute or friendships competed with in england where was he asked that says that in case of passion to nikkei outgoing u. outside and bit layouts[16:39] yeah harron says to use the questions austen you for friends it's completed within a minute we're used to compete in the house oregon where oh where is full of looks like it's saying indicated[16:59] and he didn't equivalent of hundreds of deep today outside and laos and history proves he's a big kiss like it sounds like one thing in the of a cap that and i can i'm having a frenzy anyway said the fact that sushi which you think the difference[17:19] and he did friendships and to prove he did we didn't know where i'm steve young now today and i don't see instruction that and i can now read have to think about that balance they get a ticket and that sid unit says the instructions in[17:39] the omelet you on the stand by included with friendships with you that we're outside been where was at obtained the as yet they've done outside of england and wales him weren't you on the stand the white house fighting to words i guess anywhere in the well the what the ethnic[17:59] and he that in and then when i found that they want to use on the stones boy equipment them how i can say now i think that he didn't punch the t. korea thailand and handshakes pass it does mean that depends singing it and[18:19] singing in the house and the clinton plan that's the plan yang yang yang at hand equivalents around a curve and means the same asked doesn't it say anything they did not consent to the anesthetic and supply is the chase ended sunday april it might be consistent ended from let's face it means the same thing that's fine[18:39] scientists that might offend the season that comes used what trade apprenticeship the a. arms reaching the molten friendship as i will then attention sell it to our own japanese suggestions for improving the ones in the past and show to do now[18:59] you know how you actually is like the sound and in the history of rights mean i pray they should be taking offense is any last sighting in the rest of the house and prevent that it just needs a sound like a hung on a kind man what it means now that it took me awhile and then at penn station i compete[19:19] i competed in good implants i think next cycle and need to the credit of at needed any lack sighting of rails said maybe catch fire that i am now exactly how to rephrase that she detroit each tried rephrase use your option in your words if the house[19:39] if the hand that have eaten heat an answer came to the theft and i think he had the sheds any hint of wales and the offensive but perhaps it's compete annie lennox i'm miles i fled the math be an asset k. thank you[19:59] kitty thank you found him you've owns the next question ourselves the ball to greet qualifications or why that hang around so we all thought school's policy and scorched by the great at photo to happens on the green said i guess said that you think[20:19] what you think this question is often the fact that the great you are the spent on board you on the stock market chieftain qualification that degree of roe house that graduated and what does that some degree level or above me that any thought he invests hey abby[20:39] the age that bakery a subject story events he can say is that creates that the events he added that means that you might have stayed on in damascus a phd most of the night that is that vast lands that might be great quarterback[20:59] that the great macaroni i think that they is that president to be safe i cannot out as soon can you give me an exultant agree that won't change that degrading ashen faced nine nine cousins and that he's english teachers say oh yeah good[21:19] hey i'm teaching aids is the construction on the question at occur the complications can beat any lab signing him man thought that it is the last he half iron and i think that this 'cause i just fall guy desolate rape all men[21:39] i hope that in the eye can see it now in cape town thank c. cup at a time and you have any suggestions for improving one of this injunction[21:59] to the death of the same as last time you see that coffee cakes they present advocate and provocation competed in advance and the convened a crimson glow the case and conceded that you're advising the house that we had a um mind me again[22:19] mind you again for your own schools that there was none that i am now did she decide to stop that and they can actually use the official fifth arm when you lost this question and what kind of qualifications you think of an exit[22:39] i hastened the courageous act and i pack and a degree sign his name be thinking about yeah like english degrees nafta creates a psychology degree eighties science degrees in astrophysics that's what they do to arm and isn't the muting due to whoa[22:59] you do when you keep the and we've got this spooky to anywhere in two couldn't qualifications compete in you outside into right hey i'll um i guess i'm it just[23:19] i think he's going to admitting to a degree that it competes in england and wales in a bakery activity take any blackouts that i have that and factions yet and that that uses the zone was on to me the yes also said great temptation to create the u. of h. i. v. and vi[23:39] c. n. and he fall in that kitchen as acting they send the kids i might see a man to man them that yeah they seem to me as they like the present and the case having she says i'm having a lot they are and i hate send your agency as[23:59] that indeed she is i am a fan and i think andy's yet to say that having his equipment and a half long that i didn't get to that full of satire yeah it's a teacher and messing up the p. g. see if he checked it out and singing[24:19] what i'm asking a question as if nothing to resist that big a bum now do bout examples now these two satisfied with your snake that's bad judgment is the major asian and you know jim i didn't think that if our panetta and a town that i can re elected[24:39] the u. s. that question son andy he's a headless he says he's a person for file a fine get it had the bound to what you think that this is an education is that yes that is to raise show me that there are other qualifications and i just asked me if i couldn't agree yes may i say the spell[24:59] in the stop it i think i can do you think this instructions necessary or unnecessary i think it's quite reassuring have a half a pound you have any suggestions for improvement speak so moves arm ne'er not really a good idea now in the back of our[25:19] that out of the case just common okay them had already other exalt was that you think should be out it's the latest on that yes option nina i think said hey i'm gonna stay in his reading of the speech beyond the normal she has this up[25:39] is that the dedication of a think the odds that that person that man is any cases and below it and go up again and he sounds to me amongst the next question now who chose to go in the cube of patients are given the tank[25:59] it through what you wore costumes whose views question and he advises that he may have a team for the n. n. e. t. in life ahead by the cake and that's all the options that are either[26:19] the lives and auntie me sue to you on the stand by cheating and you equipment costs qualification think that it's college and i passed when was that so many view or equivalent qualifications the national vacation vacation or something similar[26:39] now he can you give meetings all move in you've lived in fact is that you i think this administration says yeah and at one end of tea and i felt i king live princess angel hand nunn and general happening tasks that a man to do that[26:59] the thing that for example of an equivalent qualifications for i can actually i fancy cannot itself might have seen so that it here and i've seen gaelic flood on an impasse in seventy he's accident[27:19] a fascinating and hit me get a a pregnant sorry for him to jim this is the instructions meet the question again hannah melanoma cells from acting like this so that and he he opposed to an awful lot of that sneak a time and casey you on suit n.[27:39] suit and you seventh we woke with him and beat you to review this question plants that can not going to do our own yeah um how did you decide you also because the school and college and i think that that's the climate change his mind the seattle lime[27:59] the one hand off the bat i couldn't have gone out of them wet pavement i just i was in that the map yeah i didn't have quite a home visit sites they don't seconds here at college and the and the key that he will say the college people said it's a good idea to stay on and get a little bit more quantify[28:19] quantify them they said i ate i'd say tell him to be that tastes a bit one one eight minutes on iraq that the eyes they let it pass a bill bill and then yeah i could stay and cut concentrate on other things lowland estate and unskilled selva outhouse[28:39] freedom house how sad it is i found i had been seton hall shore on shore warned you of your own talk show k. and when the dumpy the qualifications to college and now many of the ship college fund and[28:59] so you when you owns the question around which of you and the q. question qualifications we think month i'm thinking help that one network t. and i doubt that fence i think that fiji may just be to hold apply the boxes was glad[29:19] this was glad selling all i can settle that kindness that instruction that debate and i see instruction by ignites the shape of the boxes of england radiate in favor of this clan lines that means that he no one came and we think of when you lose this question would you cute[29:39] to duty and just step out and the keys and appalachians that case and would you having to do them and he sit ins with veins in william's outspoken whoops they've done that for that i am as that i had convinced that in this frame me it does that now[29:59] as the oh yeah yeah i think they found to do it to your aunt's world shoots arm can understand that you who were you on the stones but each of the options in case they engage in the fray like that than i did have the cheap seats the backhoe the tables are often[30:19] close enough that i am an office happening level and rages in flannel tape and second the pluses once tac and i think that was what it is time that i had that and i'm afraid if they studies of something like that of me an wanted me to go out get a job and that's why the[30:39] that's why the amex says never freely just be the next level not i guess it would be the question of having more a devil's clemency and he gets here is the equivalent of one day after laughing matter say anything that t. a.'s this face a piano okay[30:59] c. n. n. that all is expected of you than i have one that's what it's kind of like the end she afro railings jeez the things it the enhance its high punitive lead princess he that betty basic city seems in an enclosed a happy end in a whole thoughts that i didn't have a more active[31:19] i'm more act here at a. b. say that is the piano is how i ended saturday i guess the the subjects that can be told that it so that taking experiencing think sandy he lived his jail cell nineteen evelyn and the votes he is you're practicing the same things that passed their ends[31:39] is there any type yes that happens a sandoval contacts said get the case and he me that exile for teaching well anything at all when i can get you off his administration as an example eddington tightening to let princess said that having sweating in our face[31:59] and in office and he keeps saying they catch some shopping season the tea may be cry even hang out selection tens and in that debate the setting of alf veteran wasting things enough is an how to behave and stuff like that can never afraid i'm going[32:19] i would next i can see whether that i can say baby and it will cut taxes and more involved him that you understand why not of the supply means that have done me any case i take that money to the next question k. gianni suggestions for improvements the option school[32:39] shoes were actually and then there any additional options do you expect to see and that is that and then i think it and i got the elections jackson's underneath of it sound hold them some faces is the examples that the equipment and they beat czech national air and dealer and face and he gets on[32:59] of bombs all the tac channel c. team guilt croft and the fifi i guess they use clarifications halfback was seated i face a pet him all common one engages maybe more common in the tax every indecency again[33:19] he said jean gamba said they thought that one of them said yeah i have now and in the ready your options on the question is do you want expected to see them up it's the fear that any of the big song[33:39] axle was permitted to you to this happened the last half will be taking its people tell us about them and isaac collins binary assisted living will is that i guess the japanese hearings actually read at nashville's yeah hi vacation i've gotten that pay hill well calamity in our ins c x[33:59] now reins c x and sitting there with i think he's more of your stolen from him traits that this man if maybe they can maintain kane's haim haim the fact that in that the patients and coming over joining their wedding night and then i think it would be getting me a tank sat in a law that idea[34:19] and i am sitting here has a sense an athlete he is acting as he mentioned that school history that's the t. c. gallons and that he actually gets a coyote and they child's may take hands and and the phenomena of info about resolve to these two satisfied with your own son[34:39] if you're also have just found it a few years on the next question now i'm charles bierbauer explanations and on and you loved it so that we your folks tombstones the next question[34:59] to them for over a novel is island at the head i it he will run"
     ]
    }
   ],
   "source": [
    "!cat bbc_sphinx.txt\n",
    "\n",
    "\n",
    "\n"
   ]
  },
  {
   "cell_type": "code",
   "execution_count": null,
   "metadata": {},
   "outputs": [],
   "source": []
  },
  {
   "cell_type": "code",
   "execution_count": 5,
   "metadata": {},
   "outputs": [],
   "source": [
    "import re\n",
    "INFILE='bbc_sphinx.txt'\n",
    "OUTFILE='0bbc_sphinx.txt'\n",
    "\n",
    "with open(INFILE, 'r') as f:\n",
    "    text = f.read()\n",
    "\n",
    "with open(OUTFILE, 'w') as f:\n",
    "    f.write(re.sub('\\[', '\\n'+'[', text))\n",
    "\n",
    "\n"
   ]
  },
  {
   "cell_type": "code",
   "execution_count": 6,
   "metadata": {},
   "outputs": [
    {
     "name": "stdout",
     "output_type": "stream",
     "text": [
      "\r\n",
      "[00:00] what's in the news from bbc learning english dot com according to ecologists having a personality means showing a consistent pattern of behavior that i'm receptionist community there is an unsteady colonies of rock and sit across the western u. s. was by following him in the wild and by taking call colonies back to the lab\r\n",
      "[00:19] the lab i found that certain risky behaviors like forging what grief of food and responding aggressively to a threat went to get up and colonies for the north tended to take more of these risks the study suggests those more adventurous personalities would be an adaptation to the limited window of activity best by the long snowing golden winter\r\n",
      "[00:39] so"
     ]
    }
   ],
   "source": [
    "!cat 0bbc_sphinx.txt"
   ]
  },
  {
   "cell_type": "code",
   "execution_count": 72,
   "metadata": {},
   "outputs": [
    {
     "name": "stdout",
     "output_type": "stream",
     "text": [
      "[[2017, 11235], [16815, 21581], [23163, 28314], [28879, 32066], [32710, 40255]]\n"
     ]
    }
   ],
   "source": [
    "from pydub import AudioSegment\n",
    "import pydub\n",
    "from pydub.silence import split_on_silence, detect_silence\n",
    "\n",
    "\n",
    "sound_file = AudioSegment.from_wav(\"output.wav\")\n",
    "\n",
    "print (detect_silence(sound_file, silence_thresh=sound_file.dBFS-1, min_silence_len=3000))\n",
    "\n"
   ]
  },
  {
   "cell_type": "code",
   "execution_count": 76,
   "metadata": {},
   "outputs": [
    {
     "data": {
      "text/plain": [
       "<matplotlib.axes._subplots.AxesSubplot at 0xe5fb4a8>"
      ]
     },
     "execution_count": 76,
     "metadata": {},
     "output_type": "execute_result"
    }
   ],
   "source": [
    "import librosa\n",
    "import librosa.display\n",
    "import matplotlib.pyplot as plt\n",
    "#from dtw import dtw\n",
    "from numpy.linalg import norm\n",
    "\n",
    "\n",
    "#Loading audio files\n",
    "y1, sr1 = librosa.load('output.wav') \n",
    "y2, sr2 = librosa.load('filtered.wav') \n",
    "\n",
    "#Showing multiple plots using subplot\n",
    "plt.subplot(1, 2, 1) \n",
    "mfcc1 = librosa.feature.mfcc(y1,sr1)   #Computing MFCC values\n",
    "librosa.display.specshow(mfcc1)\n",
    "\n",
    "plt.subplot(1, 2, 2)\n",
    "mfcc2 = librosa.feature.mfcc(y2, sr2)\n",
    "librosa.display.specshow(mfcc2)\n",
    "\n",
    "\n"
   ]
  },
  {
   "cell_type": "code",
   "execution_count": 77,
   "metadata": {},
   "outputs": [
    {
     "data": {
      "image/png": "[encoded data removed]",
      "text/plain": [
       "<matplotlib.figure.Figure at 0xd9cac50>"
      ]
     },
     "metadata": {},
     "output_type": "display_data"
    }
   ],
   "source": [
    "plt.show()"
   ]
  },
  {
   "cell_type": "code",
   "execution_count": null,
   "metadata": {
    "collapsed": true
   },
   "outputs": [],
   "source": []
  }
 ],
 "metadata": {
  "kernelspec": {
   "display_name": "Python 3",
   "language": "python",
   "name": "python3"
  },
  "language_info": {
   "codemirror_mode": {
    "name": "ipython",
    "version": 3
   },
   "file_extension": ".py",
   "mimetype": "text/x-python",
   "name": "python",
   "nbconvert_exporter": "python",
   "pygments_lexer": "ipython3",
   "version": "3.6.5"
  }
 },
 "nbformat": 4,
 "nbformat_minor": 2
}
