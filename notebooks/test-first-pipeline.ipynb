{
 "cells": [
  {
   "cell_type": "code",
   "execution_count": 21,
   "metadata": {},
   "outputs": [
    {
     "name": "stdout",
     "output_type": "stream",
     "text": [
      "The autoreload extension is already loaded. To reload it, use:\n",
      "  %reload_ext autoreload\n"
     ]
    }
   ],
   "source": [
    "import sys\n",
    "sys.path.insert(0, '/home/ons21553/wspace/interview-transcripts/src')\n",
    "from common import *\n",
    "\n",
    "%load_ext autoreload\n",
    "%autoreload 2"
   ]
  },
  {
   "cell_type": "code",
   "execution_count": 2,
   "metadata": {},
   "outputs": [],
   "source": [
    "import recordings.recs as recs\n",
    "r = recs.bbc_interview.load()"
   ]
  },
  {
   "cell_type": "code",
   "execution_count": 19,
   "metadata": {},
   "outputs": [],
   "source": [
    "audio_fpath = r.audio_fpath"
   ]
  },
  {
   "cell_type": "code",
   "execution_count": 96,
   "metadata": {},
   "outputs": [
    {
     "name": "stdout",
     "output_type": "stream",
     "text": [
      "bbc_interview\n"
     ]
    }
   ],
   "source": [
    "run_id = path2id(audio_fpath, level_to=-1)\n",
    "print(run_id)"
   ]
  },
  {
   "cell_type": "code",
   "execution_count": 164,
   "metadata": {},
   "outputs": [],
   "source": [
    "from pipelines.ina_dummy_aws import *"
   ]
  },
  {
   "cell_type": "code",
   "execution_count": 165,
   "metadata": {},
   "outputs": [
    {
     "name": "stdout",
     "output_type": "stream",
     "text": [
      "Initializing transcribing pipeline bbc_interview for /home/ons21553/wspace/interview-transcripts/src/../data/recordings/bbc_interview/audio.mp3\n"
     ]
    },
    {
     "name": "stderr",
     "output_type": "stream",
     "text": [
      "/home/ons21553/.local/share/virtualenvs/src-ppTQaxQI/lib/python3.6/site-packages/keras/engine/saving.py:327: UserWarning: Error in loading the saved optimizer state. As a result, your model is starting with a freshly initialized optimizer.\n",
      "  warnings.warn('Error in loading the saved optimizer '\n",
      "/home/ons21553/.local/share/virtualenvs/src-ppTQaxQI/lib/python3.6/site-packages/keras/engine/saving.py:327: UserWarning: Error in loading the saved optimizer state. As a result, your model is starting with a freshly initialized optimizer.\n",
      "  warnings.warn('Error in loading the saved optimizer '\n",
      "/home/ons21553/.local/share/virtualenvs/src-ppTQaxQI/lib/python3.6/site-packages/sidekit/frontend/features.py:394: RuntimeWarning: divide by zero encountered in log\n",
      "  log_energy = numpy.log((framed**2).sum(axis=1))\n",
      "/home/ons21553/.local/share/virtualenvs/src-ppTQaxQI/lib/python3.6/site-packages/sidekit/frontend/features.py:465: RuntimeWarning: divide by zero encountered in log\n",
      "  mspec = numpy.log(numpy.dot(spec, fbank.T))   # A tester avec log10 et log\n",
      "/home/ons21553/.local/share/virtualenvs/src-ppTQaxQI/lib/python3.6/site-packages/pyannote/algorithms/utils/viterbi.py:88: FutureWarning: arrays to stack must be passed as a \"sequence\" type such as list or tuple. Support for non-sequence iterables such as generators is deprecated as of NumPy 1.16 and will raise an error in the future.\n",
      "  for e, c in six.moves.zip(emission.T, consecutive)\n",
      "/home/ons21553/.local/share/virtualenvs/src-ppTQaxQI/lib/python3.6/site-packages/pyannote/algorithms/utils/viterbi.py:97: FutureWarning: arrays to stack must be passed as a \"sequence\" type such as list or tuple. Support for non-sequence iterables such as generators is deprecated as of NumPy 1.16 and will raise an error in the future.\n",
      "  for e, c in six.moves.zip(constraint.T, consecutive)\n",
      "/home/ons21553/.local/share/virtualenvs/src-ppTQaxQI/lib/python3.6/site-packages/skimage/util/shape.py:246: RuntimeWarning: Cannot provide views on a non-contiguous input array without copying.\n",
      "  warn(RuntimeWarning(\"Cannot provide views on a non-contiguous input \"\n",
      "/home/ons21553/.local/share/virtualenvs/src-ppTQaxQI/lib/python3.6/site-packages/inaSpeechSegmenter/segmenter.py:71: RuntimeWarning: invalid value encountered in subtract\n",
      "  data = (data - np.mean(data, axis=1).reshape((len(data), 1))) / np.std(data, axis=1).reshape((len(data), 1))\n",
      "/home/ons21553/.local/share/virtualenvs/src-ppTQaxQI/lib/python3.6/site-packages/numpy/core/_methods.py:193: RuntimeWarning: invalid value encountered in subtract\n",
      "  x = asanyarray(arr - arrmean)\n"
     ]
    },
    {
     "name": "stdout",
     "output_type": "stream",
     "text": [
      "\n",
      "Using job name \"tr--bbc_interview--seg_0_audio\" and bucket fpath \"bbc_interview--seg_0_audio\"\n",
      "\n",
      "Uploading \"/home/ons21553/wspace/interview-transcripts/src/../data/pipelines/bbc_interview/seg_0_audio.mp3\" to \"bbc_interview--seg_0_audio\" in \"dcm-automatic-transcription\" bucket\n",
      "\n",
      "Job with name \"tr--bbc_interview--seg_0_audio\" already exists, deleting the old one...\n",
      "\n",
      "Starting the transcription job \"tr--bbc_interview--seg_0_audio\"\n",
      "\n",
      "Transcription started with response: {'TranscriptionJob': {'TranscriptionJobName': 'tr--bbc_interview--seg_0_audio', 'TranscriptionJobStatus': 'IN_PROGRESS', 'LanguageCode': 'en-GB', 'MediaFormat': 'mp3', 'Media': {'MediaFileUri': 's3://dcm-automatic-transcription/bbc_interview--seg_0_audio'}, 'CreationTime': datetime.datetime(2019, 10, 4, 18, 1, 13, 792000, tzinfo=tzlocal())}, 'ResponseMetadata': {'RequestId': '116e0b72-2a29-40fa-8423-1820cafd0733', 'HTTPStatusCode': 200, 'HTTPHeaders': {'content-type': 'application/x-amz-json-1.1', 'date': 'Fri, 04 Oct 2019 17:01:13 GMT', 'x-amzn-requestid': '116e0b72-2a29-40fa-8423-1820cafd0733', 'content-length': '279', 'connection': 'keep-alive'}, 'RetryAttempts': 0}}\n",
      "Done transcribing (71.15s)\n",
      "\n",
      "Using job name \"tr--bbc_interview--seg_1_audio\" and bucket fpath \"bbc_interview--seg_1_audio\"\n",
      "\n",
      "Uploading \"/home/ons21553/wspace/interview-transcripts/src/../data/pipelines/bbc_interview/seg_1_audio.mp3\" to \"bbc_interview--seg_1_audio\" in \"dcm-automatic-transcription\" bucket\n",
      "\n",
      "Job with name \"tr--bbc_interview--seg_1_audio\" already exists, deleting the old one...\n",
      "\n",
      "Starting the transcription job \"tr--bbc_interview--seg_1_audio\"\n",
      "\n",
      "Transcription started with response: {'TranscriptionJob': {'TranscriptionJobName': 'tr--bbc_interview--seg_1_audio', 'TranscriptionJobStatus': 'IN_PROGRESS', 'LanguageCode': 'en-GB', 'MediaFormat': 'mp3', 'Media': {'MediaFileUri': 's3://dcm-automatic-transcription/bbc_interview--seg_1_audio'}, 'CreationTime': datetime.datetime(2019, 10, 4, 18, 2, 25, 625000, tzinfo=tzlocal())}, 'ResponseMetadata': {'RequestId': 'b97b3bc6-0b83-4109-9f76-14ad9fe30b58', 'HTTPStatusCode': 200, 'HTTPHeaders': {'content-type': 'application/x-amz-json-1.1', 'date': 'Fri, 04 Oct 2019 17:02:24 GMT', 'x-amzn-requestid': 'b97b3bc6-0b83-4109-9f76-14ad9fe30b58', 'content-length': '279', 'connection': 'keep-alive'}, 'RetryAttempts': 0}}\n",
      "Done transcribing (61.01s)\n"
     ]
    },
    {
     "ename": "AssertionError",
     "evalue": "mismatch in lengths",
     "output_type": "error",
     "traceback": [
      "\u001b[0;31m---------------------------------------------------------------------------\u001b[0m",
      "\u001b[0;31mAssertionError\u001b[0m                            Traceback (most recent call last)",
      "\u001b[0;32m<ipython-input-165-936c0590dcec>\u001b[0m in \u001b[0;36m<module>\u001b[0;34m\u001b[0m\n\u001b[1;32m      7\u001b[0m \u001b[0;34m\u001b[0m\u001b[0m\n\u001b[1;32m      8\u001b[0m \u001b[0mpipeline\u001b[0m \u001b[0;34m=\u001b[0m \u001b[0mInaDummyAwsPipeline\u001b[0m\u001b[0;34m(\u001b[0m\u001b[0maudio_fpath\u001b[0m\u001b[0;34m,\u001b[0m \u001b[0mrun_id\u001b[0m\u001b[0;34m)\u001b[0m\u001b[0;34m\u001b[0m\u001b[0;34m\u001b[0m\u001b[0m\n\u001b[0;32m----> 9\u001b[0;31m \u001b[0mpipeline\u001b[0m\u001b[0;34m.\u001b[0m\u001b[0mrun_all\u001b[0m\u001b[0;34m(\u001b[0m\u001b[0;34m)\u001b[0m\u001b[0;34m\u001b[0m\u001b[0;34m\u001b[0m\u001b[0m\n\u001b[0m",
      "\u001b[0;32m~/wspace/interview-transcripts/src/pipelines/ina_dummy_aws.py\u001b[0m in \u001b[0;36mrun_all\u001b[0;34m(self)\u001b[0m\n\u001b[1;32m    107\u001b[0m         \u001b[0mself\u001b[0m\u001b[0;34m.\u001b[0m\u001b[0mrun_transcription\u001b[0m\u001b[0;34m(\u001b[0m\u001b[0;34m)\u001b[0m\u001b[0;34m\u001b[0m\u001b[0;34m\u001b[0m\u001b[0m\n\u001b[1;32m    108\u001b[0m \u001b[0;34m\u001b[0m\u001b[0m\n\u001b[0;32m--> 109\u001b[0;31m         \u001b[0mself\u001b[0m\u001b[0;34m.\u001b[0m\u001b[0mcreate_final\u001b[0m\u001b[0;34m(\u001b[0m\u001b[0;34m)\u001b[0m\u001b[0;34m\u001b[0m\u001b[0;34m\u001b[0m\u001b[0m\n\u001b[0m\u001b[1;32m    110\u001b[0m \u001b[0;34m\u001b[0m\u001b[0m\n\u001b[1;32m    111\u001b[0m \u001b[0;34m\u001b[0m\u001b[0m\n",
      "\u001b[0;32m~/wspace/interview-transcripts/src/pipelines/ina_dummy_aws.py\u001b[0m in \u001b[0;36mcreate_final\u001b[0;34m(self)\u001b[0m\n\u001b[1;32m     93\u001b[0m         \u001b[0mseg_transcripts\u001b[0m \u001b[0;34m=\u001b[0m \u001b[0mself\u001b[0m\u001b[0;34m.\u001b[0m\u001b[0mload_json\u001b[0m\u001b[0;34m(\u001b[0m\u001b[0;34m'seg_transcripts'\u001b[0m\u001b[0;34m)\u001b[0m\u001b[0;34m\u001b[0m\u001b[0;34m\u001b[0m\u001b[0m\n\u001b[1;32m     94\u001b[0m \u001b[0;34m\u001b[0m\u001b[0m\n\u001b[0;32m---> 95\u001b[0;31m         \u001b[0;32massert\u001b[0m \u001b[0mlen\u001b[0m\u001b[0;34m(\u001b[0m\u001b[0mdia_segments\u001b[0m\u001b[0;34m)\u001b[0m \u001b[0;34m==\u001b[0m \u001b[0mlen\u001b[0m\u001b[0;34m(\u001b[0m\u001b[0mseg_transcripts\u001b[0m\u001b[0;34m)\u001b[0m\u001b[0;34m,\u001b[0m \u001b[0;34m'mismatch in lengths'\u001b[0m\u001b[0;34m\u001b[0m\u001b[0;34m\u001b[0m\u001b[0m\n\u001b[0m\u001b[1;32m     96\u001b[0m \u001b[0;34m\u001b[0m\u001b[0m\n\u001b[1;32m     97\u001b[0m         \u001b[0;32mfor\u001b[0m \u001b[0mi\u001b[0m \u001b[0;32min\u001b[0m \u001b[0mrange\u001b[0m\u001b[0;34m(\u001b[0m\u001b[0mlen\u001b[0m\u001b[0;34m(\u001b[0m\u001b[0mdia_segments\u001b[0m\u001b[0;34m)\u001b[0m\u001b[0;34m)\u001b[0m\u001b[0;34m:\u001b[0m\u001b[0;34m\u001b[0m\u001b[0;34m\u001b[0m\u001b[0m\n",
      "\u001b[0;31mAssertionError\u001b[0m: mismatch in lengths"
     ]
    }
   ],
   "source": [
    "import recordings.recs as recs\n",
    "\n",
    "r = recs.bbc_interview.load()\n",
    "audio_fpath = r.audio_fpath\n",
    "\n",
    "run_id = path2id(audio_fpath, level_to=-1)\n",
    "\n",
    "pipeline = InaDummyAwsPipeline(audio_fpath, run_id)\n",
    "pipeline.run_all()"
   ]
  },
  {
   "cell_type": "code",
   "execution_count": 167,
   "metadata": {},
   "outputs": [
    {
     "data": {
      "text/plain": [
       "\u001b[0;31mSignature:\u001b[0m \u001b[0mpool\u001b[0m\u001b[0;34m.\u001b[0m\u001b[0mapply\u001b[0m\u001b[0;34m(\u001b[0m\u001b[0mfunc\u001b[0m\u001b[0;34m,\u001b[0m \u001b[0margs\u001b[0m\u001b[0;34m=\u001b[0m\u001b[0;34m(\u001b[0m\u001b[0;34m)\u001b[0m\u001b[0;34m,\u001b[0m \u001b[0mkwds\u001b[0m\u001b[0;34m=\u001b[0m\u001b[0;34m{\u001b[0m\u001b[0;34m}\u001b[0m\u001b[0;34m)\u001b[0m\u001b[0;34m\u001b[0m\u001b[0;34m\u001b[0m\u001b[0m\n",
       "\u001b[0;31mDocstring:\u001b[0m Equivalent of `func(*args, **kwds)`.\n",
       "\u001b[0;31mFile:\u001b[0m      /usr/lib/python3.6/multiprocessing/pool.py\n",
       "\u001b[0;31mType:\u001b[0m      method\n"
      ]
     },
     "metadata": {},
     "output_type": "display_data"
    }
   ],
   "source": [
    "pool.apply?"
   ]
  },
  {
   "cell_type": "code",
   "execution_count": 166,
   "metadata": {},
   "outputs": [
    {
     "name": "stdout",
     "output_type": "stream",
     "text": [
      "/home/ons21553/.local/share/virtualenvs/src-ppTQaxQI/bin/python\n"
     ]
    }
   ],
   "source": [
    "!which python"
   ]
  },
  {
   "cell_type": "code",
   "execution_count": 138,
   "metadata": {},
   "outputs": [],
   "source": [
    "pipeline = InaDummyAwsPipeline(audio_fpath, run_id)"
   ]
  },
  {
   "cell_type": "code",
   "execution_count": 140,
   "metadata": {
    "collapsed": true,
    "jupyter": {
     "outputs_hidden": true
    }
   },
   "outputs": [
    {
     "name": "stderr",
     "output_type": "stream",
     "text": [
      "/home/ons21553/.local/share/virtualenvs/src-ppTQaxQI/lib/python3.6/site-packages/keras/engine/saving.py:327: UserWarning: Error in loading the saved optimizer state. As a result, your model is starting with a freshly initialized optimizer.\n",
      "  warnings.warn('Error in loading the saved optimizer '\n",
      "/home/ons21553/.local/share/virtualenvs/src-ppTQaxQI/lib/python3.6/site-packages/keras/engine/saving.py:327: UserWarning: Error in loading the saved optimizer state. As a result, your model is starting with a freshly initialized optimizer.\n",
      "  warnings.warn('Error in loading the saved optimizer '\n",
      "/home/ons21553/.local/share/virtualenvs/src-ppTQaxQI/lib/python3.6/site-packages/sidekit/frontend/features.py:394: RuntimeWarning: divide by zero encountered in log\n",
      "  log_energy = numpy.log((framed**2).sum(axis=1))\n",
      "/home/ons21553/.local/share/virtualenvs/src-ppTQaxQI/lib/python3.6/site-packages/sidekit/frontend/features.py:465: RuntimeWarning: divide by zero encountered in log\n",
      "  mspec = numpy.log(numpy.dot(spec, fbank.T))   # A tester avec log10 et log\n",
      "/home/ons21553/.local/share/virtualenvs/src-ppTQaxQI/lib/python3.6/site-packages/pyannote/algorithms/utils/viterbi.py:88: FutureWarning: arrays to stack must be passed as a \"sequence\" type such as list or tuple. Support for non-sequence iterables such as generators is deprecated as of NumPy 1.16 and will raise an error in the future.\n",
      "  for e, c in six.moves.zip(emission.T, consecutive)\n",
      "/home/ons21553/.local/share/virtualenvs/src-ppTQaxQI/lib/python3.6/site-packages/pyannote/algorithms/utils/viterbi.py:97: FutureWarning: arrays to stack must be passed as a \"sequence\" type such as list or tuple. Support for non-sequence iterables such as generators is deprecated as of NumPy 1.16 and will raise an error in the future.\n",
      "  for e, c in six.moves.zip(constraint.T, consecutive)\n",
      "/home/ons21553/.local/share/virtualenvs/src-ppTQaxQI/lib/python3.6/site-packages/skimage/util/shape.py:246: RuntimeWarning: Cannot provide views on a non-contiguous input array without copying.\n",
      "  warn(RuntimeWarning(\"Cannot provide views on a non-contiguous input \"\n",
      "/home/ons21553/.local/share/virtualenvs/src-ppTQaxQI/lib/python3.6/site-packages/inaSpeechSegmenter/segmenter.py:71: RuntimeWarning: invalid value encountered in subtract\n",
      "  data = (data - np.mean(data, axis=1).reshape((len(data), 1))) / np.std(data, axis=1).reshape((len(data), 1))\n",
      "/home/ons21553/.local/share/virtualenvs/src-ppTQaxQI/lib/python3.6/site-packages/numpy/core/_methods.py:193: RuntimeWarning: invalid value encountered in subtract\n",
      "  x = asanyarray(arr - arrmean)\n"
     ]
    },
    {
     "data": {
      "text/plain": [
       "[{'start_s': 0.5, 'end_s': 2.52, 'type': 'Male'}, {'start_s': 7.0600000000000005, 'end_s': 10.06, 'type': 'Male'}, {'start_s': 10.06, 'end_s': 12.16, 'type': 'Female'}, {'start_s': 12.16, 'end_s': 22.04, 'type': 'Male'}, {'start_s': 22.04, 'end_s': 27.18, 'type': 'Female'}, {'start_s': 27.18, 'end_s': 37.06, 'type': 'Male'}, {'start_s': 37.06, 'end_s': 48.120000000000005, 'type': 'Female'}, {'start_s': 48.120000000000005, 'end_s': 50.56, 'type': 'Male'}, {'start_s': 50.56, 'end_s': 54.9, 'type': 'Female'}, {'start_s': 54.9, 'end_s': 55.9, 'type': 'Male'}, {'start_s': 56.4, 'end_s': 60.64, 'type': 'Male'}, {'start_s': 61.22, 'end_s': 72.92, 'type': 'Female'}, {'start_s': 73.84, 'end_s': 86.60000000000001, 'type': 'Female'}, {'start_s': 86.60000000000001, 'end_s': 87.62, 'type': 'Male'}, {'start_s': 89.12, 'end_s': 97.02, 'type': 'Female'}, {'start_s': 97.62, 'end_s': 99.64, 'type': 'Female'}, {'start_s': 100.10000000000001, 'end_s': 104.36, 'type': 'Female'}, {'start_s': 104.86, 'end_s': 107.66, 'type': 'Female'}, {'start_s': 108.22, 'end_s': 113.84, 'type': 'Female'}, {'start_s': 114.64, 'end_s': 119.78, 'type': 'Female'}, {'start_s': 120.24000000000001, 'end_s': 121.38, 'type': 'Male'}, {'start_s': 121.38, 'end_s': 127.86, 'type': 'Female'}, {'start_s': 128.3, 'end_s': 135.06, 'type': 'Female'}, {'start_s': 135.06, 'end_s': 145.94, 'type': 'Male'}, {'start_s': 146.64000000000001, 'end_s': 153.54, 'type': 'Female'}, {'start_s': 154.16, 'end_s': 163.6, 'type': 'Female'}, {'start_s': 164.06, 'end_s': 165.68, 'type': 'Male'}, {'start_s': 166.72, 'end_s': 181.56, 'type': 'Female'}, {'start_s': 182.06, 'end_s': 183.3, 'type': 'Male'}, {'start_s': 184.12, 'end_s': 186.96, 'type': 'Male'}, {'start_s': 187.86, 'end_s': 192.06, 'type': 'Female'}, {'start_s': 192.96, 'end_s': 194.56, 'type': 'Female'}, {'start_s': 194.56, 'end_s': 195.08, 'type': 'Male'}, {'start_s': 195.70000000000002, 'end_s': 197.9, 'type': 'Female'}, {'start_s': 197.9, 'end_s': 206.3, 'type': 'Male'}, {'start_s': 206.88, 'end_s': 210.72, 'type': 'Male'}, {'start_s': 211.24, 'end_s': 220.42000000000002, 'type': 'Female'}, {'start_s': 220.42000000000002, 'end_s': 238.82, 'type': 'Male'}, {'start_s': 239.36, 'end_s': 239.8, 'type': 'Female'}, {'start_s': 240.32, 'end_s': 241.48000000000002, 'type': 'Female'}, {'start_s': 241.48000000000002, 'end_s': 250.48000000000002, 'type': 'Male'}, {'start_s': 250.48000000000002, 'end_s': 251.64000000000001, 'type': 'Female'}, {'start_s': 252.12, 'end_s': 255.18, 'type': 'Female'}, {'start_s': 262.08, 'end_s': 272.08, 'type': 'Male'}]"
      ]
     },
     "execution_count": 140,
     "metadata": {},
     "output_type": "execute_result"
    }
   ],
   "source": [
    "pipeline.run_segmentation()"
   ]
  },
  {
   "cell_type": "code",
   "execution_count": 142,
   "metadata": {},
   "outputs": [],
   "source": [
    "pipeline.run_diarization();"
   ]
  },
  {
   "cell_type": "code",
   "execution_count": 143,
   "metadata": {},
   "outputs": [
    {
     "name": "stdout",
     "output_type": "stream",
     "text": [
      "\n",
      "Using job name \"tr--bbc_interview--seg_0_audio\" and bucket fpath \"bbc_interview--seg_0_audio\"\n",
      "\n",
      "Uploading \"/home/ons21553/wspace/interview-transcripts/src/../data/pipelines/bbc_interview/seg_0_audio.mp3\" to \"bbc_interview--seg_0_audio\" in \"dcm-automatic-transcription\" bucket\n",
      "\n",
      "Job with name \"tr--bbc_interview--seg_0_audio\" already exists, deleting the old one...\n",
      "\n",
      "Starting the transcription job \"tr--bbc_interview--seg_0_audio\"\n",
      "\n",
      "Transcription started with response: {'TranscriptionJob': {'TranscriptionJobName': 'tr--bbc_interview--seg_0_audio', 'TranscriptionJobStatus': 'IN_PROGRESS', 'LanguageCode': 'en-GB', 'MediaFormat': 'mp3', 'Media': {'MediaFileUri': 's3://dcm-automatic-transcription/bbc_interview--seg_0_audio'}, 'CreationTime': datetime.datetime(2019, 10, 4, 17, 41, 40, 774000, tzinfo=tzlocal())}, 'ResponseMetadata': {'RequestId': 'd9b8ff0e-e5b2-4527-bbff-17a020ead7ce', 'HTTPStatusCode': 200, 'HTTPHeaders': {'content-type': 'application/x-amz-json-1.1', 'date': 'Fri, 04 Oct 2019 16:41:40 GMT', 'x-amzn-requestid': 'd9b8ff0e-e5b2-4527-bbff-17a020ead7ce', 'content-length': '279', 'connection': 'keep-alive'}, 'RetryAttempts': 0}}\n",
      "Done transcribing (40.71s)\n",
      "\n",
      "Using job name \"tr--bbc_interview--seg_1_audio\" and bucket fpath \"bbc_interview--seg_1_audio\"\n",
      "\n",
      "Uploading \"/home/ons21553/wspace/interview-transcripts/src/../data/pipelines/bbc_interview/seg_1_audio.mp3\" to \"bbc_interview--seg_1_audio\" in \"dcm-automatic-transcription\" bucket\n",
      "\n",
      "Starting the transcription job \"tr--bbc_interview--seg_1_audio\"\n",
      "\n",
      "Transcription started with response: {'TranscriptionJob': {'TranscriptionJobName': 'tr--bbc_interview--seg_1_audio', 'TranscriptionJobStatus': 'IN_PROGRESS', 'LanguageCode': 'en-GB', 'MediaFormat': 'mp3', 'Media': {'MediaFileUri': 's3://dcm-automatic-transcription/bbc_interview--seg_1_audio'}, 'CreationTime': datetime.datetime(2019, 10, 4, 17, 42, 22, 37000, tzinfo=tzlocal())}, 'ResponseMetadata': {'RequestId': '19fb0807-a7cc-4964-8c34-35634417b33c', 'HTTPStatusCode': 200, 'HTTPHeaders': {'content-type': 'application/x-amz-json-1.1', 'date': 'Fri, 04 Oct 2019 16:42:22 GMT', 'x-amzn-requestid': '19fb0807-a7cc-4964-8c34-35634417b33c', 'content-length': '279', 'connection': 'keep-alive'}, 'RetryAttempts': 0}}\n",
      "Done transcribing (35.85s)\n"
     ]
    },
    {
     "data": {
      "text/plain": [
       "[{'jobName': 'tr--bbc_interview--seg_0_audio', 'accountId': '735156234108', 'results': {'transcripts': [{'transcript': 'this recording is from the British Council.'}], 'items': [{'start_time': '0.0', 'end_time': '0.26', 'alternatives': [{'confidence': '1.0', 'content': 'this'}], 'type': 'pronunciation'}, {'start_time': '0.26', 'end_time': '0.73', 'alternatives': [{'confidence': '1.0', 'content': 'recording'}], 'type': 'pronunciation'}, {'start_time': '0.74', 'end_time': '0.91', 'alternatives': [{'confidence': '1.0', 'content': 'is'}], 'type': 'pronunciation'}, {'start_time': '0.91', 'end_time': '1.11', 'alternatives': [{'confidence': '1.0', 'content': 'from'}], 'type': 'pronunciation'}, {'start_time': '1.11', 'end_time': '1.1900000000000002', 'alternatives': [{'confidence': '1.0', 'content': 'the'}], 'type': 'pronunciation'}, {'start_time': '1.19', 'end_time': '1.51', 'alternatives': [{'confidence': '1.0', 'content': 'British'}], 'type': 'pronunciation'}, {'start_time': '1.51', 'end_time': '1.8900000000000001', 'alternatives': [{'confidence': '0.9969', 'content': 'Council'}], 'type': 'pronunciation'}, {'alternatives': [{'confidence': '0.0', 'content': '.'}], 'type': 'punctuation'}]}, 'status': 'COMPLETED'}, {'jobName': 'tr--bbc_interview--seg_1_audio', 'accountId': '735156234108', 'results': {'transcripts': [{'transcript': 'Hello, Maria. Thanks for coming in for the interview.'}], 'items': [{'start_time': '0.0', 'end_time': '0.55', 'alternatives': [{'confidence': '1.0', 'content': 'Hello'}], 'type': 'pronunciation'}, {'alternatives': [{'confidence': '0.0', 'content': ','}], 'type': 'punctuation'}, {'start_time': '0.55', 'end_time': '1.07', 'alternatives': [{'confidence': '1.0', 'content': 'Maria'}], 'type': 'pronunciation'}, {'alternatives': [{'confidence': '0.0', 'content': '.'}], 'type': 'punctuation'}, {'start_time': '1.08', 'end_time': '1.67', 'alternatives': [{'confidence': '1.0', 'content': 'Thanks'}], 'type': 'pronunciation'}, {'start_time': '1.67', 'end_time': '1.77', 'alternatives': [{'confidence': '1.0', 'content': 'for'}], 'type': 'pronunciation'}, {'start_time': '1.77', 'end_time': '2.07', 'alternatives': [{'confidence': '1.0', 'content': 'coming'}], 'type': 'pronunciation'}, {'start_time': '2.07', 'end_time': '2.1999999999999997', 'alternatives': [{'confidence': '1.0', 'content': 'in'}], 'type': 'pronunciation'}, {'start_time': '2.2', 'end_time': '2.29', 'alternatives': [{'confidence': '1.0', 'content': 'for'}], 'type': 'pronunciation'}, {'start_time': '2.29', 'end_time': '2.4', 'alternatives': [{'confidence': '1.0', 'content': 'the'}], 'type': 'pronunciation'}, {'start_time': '2.4', 'end_time': '2.81', 'alternatives': [{'confidence': '1.0', 'content': 'interview'}], 'type': 'pronunciation'}, {'alternatives': [{'confidence': '0.0', 'content': '.'}], 'type': 'punctuation'}]}, 'status': 'COMPLETED'}]"
      ]
     },
     "execution_count": 143,
     "metadata": {},
     "output_type": "execute_result"
    }
   ],
   "source": [
    "pipeline.run_transcription()"
   ]
  },
  {
   "cell_type": "code",
   "execution_count": 145,
   "metadata": {},
   "outputs": [],
   "source": [
    "trs = pipeline.load_json('seg_transcripts')"
   ]
  },
  {
   "cell_type": "code",
   "execution_count": 163,
   "metadata": {},
   "outputs": [
    {
     "data": {
      "text/plain": [
       "[{'word': 'this', 'confidence': '1.0'}, {'word': 'recording', 'confidence': '1.0'}, {'word': 'is', 'confidence': '1.0'}, {'word': 'from', 'confidence': '1.0'}, {'word': 'the', 'confidence': '1.0'}, {'word': 'British', 'confidence': '1.0'}, {'word': 'Council', 'confidence': '0.9969'}, {'word': '.', 'confidence': '0.0'}]"
      ]
     },
     "execution_count": 163,
     "metadata": {},
     "output_type": "execute_result"
    }
   ],
   "source": [
    "words = [{\n",
    "    'word': i['alternatives'][0]['content'],\n",
    "    'confidence': i['alternatives'][0]['confidence']\n",
    "} for i in trs[0]['results']['items']]\n",
    "\n",
    "words"
   ]
  },
  {
   "cell_type": "code",
   "execution_count": 152,
   "metadata": {},
   "outputs": [
    {
     "name": "stdout",
     "output_type": "stream",
     "text": [
      "'this recording is from the British Council.'\n"
     ]
    }
   ],
   "source": [
    "pprint.pprint(trs[0]['results']['transcripts'][0]['transcript'])"
   ]
  }
 ],
 "metadata": {
  "kernelspec": {
   "display_name": "Python 3",
   "language": "python",
   "name": "python3"
  },
  "language_info": {
   "codemirror_mode": {
    "name": "ipython",
    "version": 3
   },
   "file_extension": ".py",
   "mimetype": "text/x-python",
   "name": "python",
   "nbconvert_exporter": "python",
   "pygments_lexer": "ipython3",
   "version": "3.6.8"
  }
 },
 "nbformat": 4,
 "nbformat_minor": 4
}
