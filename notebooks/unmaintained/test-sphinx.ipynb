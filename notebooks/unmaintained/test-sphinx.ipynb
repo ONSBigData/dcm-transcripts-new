{
 "cells": [
  {
   "cell_type": "code",
   "execution_count": 1,
   "metadata": {},
   "outputs": [],
   "source": [
    "import sys\n",
    "sys.path.insert(0, '/home/ons21553/wspace/interview-transcripts/src')\n",
    "from common import *\n",
    "\n",
    "%load_ext autoreload\n",
    "%autoreload 2"
   ]
  },
  {
   "cell_type": "code",
   "execution_count": 2,
   "metadata": {},
   "outputs": [],
   "source": [
    "import speech_recognition as sr\n",
    "import pandas as pd\n",
    "import recordings.harvard as hv\n",
    "import speech_recognition\n",
    "from editdist import levenshtein"
   ]
  },
  {
   "cell_type": "code",
   "execution_count": 5,
   "metadata": {},
   "outputs": [],
   "source": [
    "data = hv.load()"
   ]
  },
  {
   "cell_type": "code",
   "execution_count": 25,
   "metadata": {},
   "outputs": [],
   "source": [
    "import pandas as pd\n",
    "mp = pd.read_csv(\n",
    "    from_data_root('recordings/harvard/mapping.csv'), \n",
    "    header=None, \n",
    "    names=['audio', 'ix']\n",
    ")\n",
    "mp = mp.set_index('audio')['ix']"
   ]
  },
  {
   "cell_type": "code",
   "execution_count": 130,
   "metadata": {},
   "outputs": [
    {
     "name": "stdout",
     "output_type": "stream",
     "text": [
      "/home/ons21553/wspace/interview-transcripts/src/../data/recordings/harvard/OSR_uk_000_0047_8k.wav\n"
     ]
    },
    {
     "data": {
      "text/plain": [
       "{'levenshtein distance': 149,\n",
       " 'actual': 'Nudge gently but wake her now The news struck doubt into restless minds Once we stood beside the shore A chink in the wall allowed a draft to blow Fasten two pins on each side A cold dip restores health and zest He takes the oath of office each March The sand drifts over the sill of the old house The point of the steel pen was bent and twisted There is a lag between thought and act.',\n",
       " 'recognized': \"nudged gently that we can now the news broke down and read his mind what we stood beside patrol the chink in the wall of melted drop to below option to pinned on each side the cold bitch whose gold help and that he takes the super bowl you'd to mock the spendthrift service to all of the old held point that the steel pan with bent and twisted there's a lag between cold and act\"}"
      ]
     },
     "execution_count": 130,
     "metadata": {},
     "output_type": "execute_result"
    }
   ],
   "source": [
    "audio_fpath = data['audio']['uk'][3]\n",
    "print(audio_fpath)\n",
    "actual_transcript = data['transcripts'][mp[audio_fpath]]\n",
    "\n",
    "recognizer = sr.Recognizer()\n",
    "\n",
    "with speech_recognition.AudioFile(audio_fpath) as source:\n",
    "    audio = recognizer.record(source)\n",
    "    \n",
    "recog_transcript = recognizer.recognize_sphinx(audio)\n",
    "\n",
    "actual_transcript = ' '.join(actual_transcript).replace('. ', ' ')\n",
    "\n",
    "{\n",
    "    'levenshtein distance': levenshtein(recog_transcript, actual_transcript),\n",
    "    'actual': actual_transcript,\n",
    "    'recognized': recog_transcript,\n",
    "}"
   ]
  }
 ],
 "metadata": {
  "kernelspec": {
   "display_name": "Python 3",
   "language": "python",
   "name": "python3"
  },
  "language_info": {
   "codemirror_mode": {
    "name": "ipython",
    "version": 3
   },
   "file_extension": ".py",
   "mimetype": "text/x-python",
   "name": "python",
   "nbconvert_exporter": "python",
   "pygments_lexer": "ipython3",
   "version": "3.6.8"
  }
 },
 "nbformat": 4,
 "nbformat_minor": 4
}
