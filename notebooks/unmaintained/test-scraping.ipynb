{
 "cells": [
  {
   "cell_type": "code",
   "execution_count": 78,
   "metadata": {},
   "outputs": [],
   "source": [
    "import sys"
   ]
  },
  {
   "cell_type": "code",
   "execution_count": 81,
   "metadata": {},
   "outputs": [],
   "source": [
    "sys.path.insert(0, '/home/ons21553/wspace/interview-transcripts/src')"
   ]
  },
  {
   "cell_type": "code",
   "execution_count": 76,
   "metadata": {},
   "outputs": [
    {
     "data": {
      "text/plain": [
       "'/home/ons21553/wspace/job-vacancy/jvpilot\\x1e/home/ons21553/wspace/outlierdet/code\\x1e/home/ons21553/wspace/job-vacancy/jvpilot\\x1e/home/ons21553/wspace/outlierdet/code'"
      ]
     },
     "execution_count": 76,
     "metadata": {},
     "output_type": "execute_result"
    }
   ],
   "source": [
    "os.environ['PYTHONPATH']"
   ]
  },
  {
   "cell_type": "code",
   "execution_count": 82,
   "metadata": {},
   "outputs": [],
   "source": [
    "import recordings.harvard as hv"
   ]
  },
  {
   "cell_type": "code",
   "execution_count": 84,
   "metadata": {},
   "outputs": [],
   "source": [
    "texts = hv.load()"
   ]
  },
  {
   "cell_type": "code",
   "execution_count": 87,
   "metadata": {},
   "outputs": [
    {
     "data": {
      "text/plain": [
       "72"
      ]
     },
     "execution_count": 87,
     "metadata": {},
     "output_type": "execute_result"
    }
   ],
   "source": [
    "len(texts)"
   ]
  },
  {
   "cell_type": "code",
   "execution_count": 89,
   "metadata": {},
   "outputs": [
    {
     "data": {
      "text/plain": [
       "['OSR_us_000_0040_8k.wav',\n",
       " 'OSR_us_000_0030_8k.wav',\n",
       " 'OSR_uk_000_0049_8k.wav',\n",
       " 'OSR_us_000_0017_8k.wav',\n",
       " 'OSR_us_000_0037_8k.wav',\n",
       " 'OSR_us_000_0011_8k.wav',\n",
       " 'OSR_us_000_0034_8k.wav',\n",
       " 'OSR_uk_000_0051_8k.wav',\n",
       " 'OSR_uk_000_0050_8k.wav',\n",
       " 'OSR_uk_000_0047_8k.wav',\n",
       " 'OSR_us_000_0012_8k.wav',\n",
       " 'OSR_us_000_0019_8k.wav',\n",
       " 'OSR_us_000_0058_8k.wav',\n",
       " 'OSR_us_000_0061_8k.wav',\n",
       " 'transcripts.pickle',\n",
       " 'OSR_us_000_0013_8k.wav',\n",
       " 'OSR_uk_000_0022_8k.wav',\n",
       " 'OSR_us_000_0010_8k.wav',\n",
       " 'OSR_us_000_0015_8k.wav',\n",
       " 'OSR_uk_000_0025_8k.wav',\n",
       " 'OSR_us_000_0057_8k.wav',\n",
       " 'OSR_uk_000_0023_8k.wav',\n",
       " 'OSR_us_000_0031_8k.wav',\n",
       " 'OSR_us_000_0018_8k.wav',\n",
       " 'OSR_us_000_0059_8k.wav',\n",
       " 'OSR_uk_000_0021_8k.wav',\n",
       " 'OSR_uk_000_0029_8k.wav',\n",
       " 'OSR_uk_000_0028_8k.wav',\n",
       " 'OSR_uk_000_0026_8k.wav',\n",
       " 'OSR_us_000_0039_8k.wav',\n",
       " 'OSR_us_000_0036_8k.wav',\n",
       " 'OSR_us_000_0016_8k.wav',\n",
       " 'OSR_us_000_0060_8k.wav',\n",
       " 'OSR_us_000_0032_8k.wav',\n",
       " 'OSR_uk_000_0048_8k.wav',\n",
       " 'OSR_us_000_0035_8k.wav',\n",
       " 'OSR_uk_000_0020_8k.wav',\n",
       " 'OSR_uk_000_0024_8k.wav',\n",
       " 'OSR_us_000_0014_8k.wav',\n",
       " 'OSR_uk_000_0027_8k.wav',\n",
       " 'OSR_us_000_0038_8k.wav']"
      ]
     },
     "execution_count": 89,
     "metadata": {},
     "output_type": "execute_result"
    }
   ],
   "source": [
    "import os\n",
    "os.listdir(hv.DIR)"
   ]
  }
 ],
 "metadata": {
  "kernelspec": {
   "display_name": "Python 3",
   "language": "python",
   "name": "python3"
  },
  "language_info": {
   "codemirror_mode": {
    "name": "ipython",
    "version": 3
   },
   "file_extension": ".py",
   "mimetype": "text/x-python",
   "name": "python",
   "nbconvert_exporter": "python",
   "pygments_lexer": "ipython3",
   "version": "3.7.0"
  }
 },
 "nbformat": 4,
 "nbformat_minor": 4
}
